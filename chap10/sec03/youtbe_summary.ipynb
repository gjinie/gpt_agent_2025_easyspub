{
 "cells": [
  {
   "cell_type": "markdown",
   "metadata": {},
   "source": [
    "# Youtube 요약"
   ]
  },
  {
   "cell_type": "code",
   "execution_count": 1,
   "metadata": {},
   "outputs": [
    {
     "name": "stdout",
     "output_type": "stream",
     "text": [
      "Collecting youtube-search\n",
      "  Using cached youtube_search-2.1.2-py3-none-any.whl.metadata (1.2 kB)\n",
      "Requirement already satisfied: requests in c:\\github\\gpt_agent_2025_easyspub\\venv\\lib\\site-packages (from youtube-search) (2.32.3)\n",
      "Requirement already satisfied: charset-normalizer<4,>=2 in c:\\github\\gpt_agent_2025_easyspub\\venv\\lib\\site-packages (from requests->youtube-search) (3.4.1)\n",
      "Requirement already satisfied: idna<4,>=2.5 in c:\\github\\gpt_agent_2025_easyspub\\venv\\lib\\site-packages (from requests->youtube-search) (3.10)\n",
      "Requirement already satisfied: urllib3<3,>=1.21.1 in c:\\github\\gpt_agent_2025_easyspub\\venv\\lib\\site-packages (from requests->youtube-search) (2.3.0)\n",
      "Requirement already satisfied: certifi>=2017.4.17 in c:\\github\\gpt_agent_2025_easyspub\\venv\\lib\\site-packages (from requests->youtube-search) (2025.1.31)\n",
      "Using cached youtube_search-2.1.2-py3-none-any.whl (3.4 kB)\n",
      "Installing collected packages: youtube-search\n",
      "Successfully installed youtube-search-2.1.2\n",
      "Note: you may need to restart the kernel to use updated packages.\n"
     ]
    }
   ],
   "source": [
    "%pip install youtube-search"
   ]
  },
  {
   "cell_type": "code",
   "execution_count": 2,
   "metadata": {},
   "outputs": [
    {
     "data": {
      "text/plain": [
       "[{'id': 'OT80oyGp4hE',\n",
       "  'thumbnails': ['https://i.ytimg.com/vi/OT80oyGp4hE/hq720_2.jpg?sqp=-oaymwE9COgCEMoBSFryq4qpAy8IARUAAAAAGAAlAADIQj0AgKJDeAHwAQH4AbYIgAKAD4oCDAgAEAEYciBLKDcwDw==&rs=AOn4CLDkNUXd9e_KEPNZuUU7UgBkCmikFA',\n",
       "   'https://i.ytimg.com/vi/OT80oyGp4hE/hq720_2.jpg?sqp=-oaymwExCNAFEJQDSFryq4qpAyMIARUAAIhCGADwAQH4AbYIgAKAD4oCDAgAEAEYciBLKDcwDw==&rs=AOn4CLDUiirmCgjVPdeTVcXDksmEaGXHJA'],\n",
       "  'title': '미국 대통령 선거제도 1분 요약',\n",
       "  'long_desc': None,\n",
       "  'channel': '사람사는세상노무현재단 RohMoohyunFoundation',\n",
       "  'duration': '0:58',\n",
       "  'views': '조회수 498,764회',\n",
       "  'publish_time': '3개월 전',\n",
       "  'url_suffix': '/shorts/OT80oyGp4hE'},\n",
       " {'id': 'wHezy_eW7gA',\n",
       "  'thumbnails': ['https://i.ytimg.com/vi/wHezy_eW7gA/hq720.jpg?sqp=-oaymwE9COgCEMoBSFryq4qpAy8IARUAAAAAGAAlAADIQj0AgKJDeAHwAQH4AbYIgAKAD4oCDAgAEAEYYyBPKGUwDw==&rs=AOn4CLCesjmPVnB2uLzCKRSdH6b4Kj3Azw',\n",
       "   'https://i.ytimg.com/vi/wHezy_eW7gA/hq720.jpg?sqp=-oaymwExCNAFEJQDSFryq4qpAyMIARUAAIhCGADwAQH4AbYIgAKAD4oCDAgAEAEYYyBPKGUwDw==&rs=AOn4CLBT6D-MnTV4n9piqcpmEZsdfhZV2w'],\n",
       "  'title': '🇺🇸미국 대선 트럼프 당선되면 미국 비자 전망은? #미국이민 #연율이민법인 #김혜욱변호사 #미국변호사',\n",
       "  'long_desc': None,\n",
       "  'channel': '연율 이민',\n",
       "  'duration': '0:41',\n",
       "  'views': '조회수 343,094회',\n",
       "  'publish_time': '3개월 전',\n",
       "  'url_suffix': '/shorts/wHezy_eW7gA'},\n",
       " {'id': 'atarXGyZ7PA',\n",
       "  'thumbnails': ['https://i.ytimg.com/vi/atarXGyZ7PA/hq720.jpg?sqp=-oaymwEjCOgCEMoBSFryq4qpAxUIARUAAAAAGAElAADIQj0AgKJDeAE=&rs=AOn4CLCXyvmwUZIWLAV_E3AzWrVdldwN7g',\n",
       "   'https://i.ytimg.com/vi/atarXGyZ7PA/hq720.jpg?sqp=-oaymwEXCNAFEJQDSFryq4qpAwkIARUAAIhCGAE=&rs=AOn4CLAR8N_RKF1kvl2QEhEUDKKuSPGC3g'],\n",
       "  'title': '[트럼프 2.0 프리뷰] 트럼프의 귀환! 그리고 떨고 있는 중국? | 트럼프, 미국, 중국',\n",
       "  'long_desc': None,\n",
       "  'channel': '김지윤의 지식Play',\n",
       "  'duration': '38:31',\n",
       "  'views': '조회수 1,192,604회',\n",
       "  'publish_time': '3개월 전',\n",
       "  'url_suffix': '/watch?v=atarXGyZ7PA&pp=ygUN66-46rWtIOuMgOyEoA%3D%3D'},\n",
       " {'id': 'IZ_hx1mnIz8',\n",
       "  'thumbnails': ['https://i.ytimg.com/vi/IZ_hx1mnIz8/hq720.jpg?sqp=-oaymwEjCOgCEMoBSFryq4qpAxUIARUAAAAAGAElAADIQj0AgKJDeAE=&rs=AOn4CLCDMzbvMPSq9BcMbEdi77JnxI28lA',\n",
       "   'https://i.ytimg.com/vi/IZ_hx1mnIz8/hq720.jpg?sqp=-oaymwEXCNAFEJQDSFryq4qpAwkIARUAAIhCGAE=&rs=AOn4CLCNIoFN18H0h071ro5-X3XpVtiMjw'],\n",
       "  'title': \"미국 대선 내일 본투표‥경합주 '초박빙' 접전 (2024.11.04/930MBC뉴스)\",\n",
       "  'long_desc': None,\n",
       "  'channel': 'MBCNEWS',\n",
       "  'duration': '2:02',\n",
       "  'views': '조회수 13,887회',\n",
       "  'publish_time': '3개월 전',\n",
       "  'url_suffix': '/watch?v=IZ_hx1mnIz8&pp=ygUN66-46rWtIOuMgOyEoA%3D%3D'},\n",
       " {'id': 'pHBFGm-SW2Q',\n",
       "  'thumbnails': ['https://i.ytimg.com/vi/pHBFGm-SW2Q/hq720_2.jpg?sqp=-oaymwE9COgCEMoBSFryq4qpAy8IARUAAAAAGAAlAADIQj0AgKJDeAHwAQH4AbYIgAKAD4oCDAgAEAEYfyATKGUwDw==&rs=AOn4CLA2JQSvh6_EevxqCSk_q_rAWt9jVw',\n",
       "   'https://i.ytimg.com/vi/pHBFGm-SW2Q/hq720_2.jpg?sqp=-oaymwExCNAFEJQDSFryq4qpAyMIARUAAIhCGADwAQH4AbYIgAKAD4oCDAgAEAEYfyATKGUwDw==&rs=AOn4CLC9thQMIYNwyssHnO_L9-wVBczADw'],\n",
       "  'title': '막말 논란 뜨거운 미국 대선',\n",
       "  'long_desc': None,\n",
       "  'channel': 'KBS 세계는지금',\n",
       "  'duration': '0:18',\n",
       "  'views': '조회수 39,385회',\n",
       "  'publish_time': '3개월 전',\n",
       "  'url_suffix': '/shorts/pHBFGm-SW2Q'}]"
      ]
     },
     "execution_count": 2,
     "metadata": {},
     "output_type": "execute_result"
    }
   ],
   "source": [
    "from youtube_search import YoutubeSearch\n",
    "\n",
    "videos = YoutubeSearch(\"미국 대선\", max_results=5).to_dict()\n",
    "videos"
   ]
  },
  {
   "cell_type": "code",
   "execution_count": 3,
   "metadata": {},
   "outputs": [
    {
     "data": {
      "text/plain": [
       "'http://youtube.com/watch?v=IZ_hx1mnIz8&pp=ygUN66-46rWtIOuMgOyEoA%3D%3D'"
      ]
     },
     "execution_count": 3,
     "metadata": {},
     "output_type": "execute_result"
    }
   ],
   "source": [
    "video_url = 'http://youtube.com' + videos[3]['url_suffix']\n",
    "video_url"
   ]
  },
  {
   "cell_type": "code",
   "execution_count": 4,
   "metadata": {},
   "outputs": [
    {
     "name": "stdout",
     "output_type": "stream",
     "text": [
      "Collecting youtube_transcript_api\n",
      "  Using cached youtube_transcript_api-0.6.3-py3-none-any.whl.metadata (17 kB)\n",
      "Collecting defusedxml<0.8.0,>=0.7.1 (from youtube_transcript_api)\n",
      "  Using cached defusedxml-0.7.1-py2.py3-none-any.whl.metadata (32 kB)\n",
      "Requirement already satisfied: requests in c:\\github\\gpt_agent_2025_easyspub\\venv\\lib\\site-packages (from youtube_transcript_api) (2.32.3)\n",
      "Requirement already satisfied: charset-normalizer<4,>=2 in c:\\github\\gpt_agent_2025_easyspub\\venv\\lib\\site-packages (from requests->youtube_transcript_api) (3.4.1)\n",
      "Requirement already satisfied: idna<4,>=2.5 in c:\\github\\gpt_agent_2025_easyspub\\venv\\lib\\site-packages (from requests->youtube_transcript_api) (3.10)\n",
      "Requirement already satisfied: urllib3<3,>=1.21.1 in c:\\github\\gpt_agent_2025_easyspub\\venv\\lib\\site-packages (from requests->youtube_transcript_api) (2.3.0)\n",
      "Requirement already satisfied: certifi>=2017.4.17 in c:\\github\\gpt_agent_2025_easyspub\\venv\\lib\\site-packages (from requests->youtube_transcript_api) (2025.1.31)\n",
      "Using cached youtube_transcript_api-0.6.3-py3-none-any.whl (622 kB)\n",
      "Using cached defusedxml-0.7.1-py2.py3-none-any.whl (25 kB)\n",
      "Installing collected packages: defusedxml, youtube_transcript_api\n",
      "Successfully installed defusedxml-0.7.1 youtube_transcript_api-0.6.3\n",
      "Note: you may need to restart the kernel to use updated packages.\n"
     ]
    }
   ],
   "source": [
    "%pip install youtube_transcript_api"
   ]
  },
  {
   "cell_type": "code",
   "execution_count": 5,
   "metadata": {},
   "outputs": [
    {
     "data": {
      "text/plain": [
       "[Document(metadata={'source': 'IZ_hx1mnIz8'}, page_content='미국 대선이 우리 시간으로 내일 저녁부터 시작합니다 두 후보는 마지막 주말도 경합주 유세에 나섰는데 여전히 초박빙 승부가 점쳐지고 있습니다 워싱턴에서 왕종명 특파원이 보도합니다 제 47대 미국 대통령 선거의 본투표는 미국 시간으로는 이틀 뒤 한국 시간으로는 내일 저녁부터 시작합니다 해리스 후보는 마지막 일요일 유지로 경지 미시간의 최대도시 트 있는인 교회를 선택했습니다 리스는 성 구절을 인용해 신은 우를 위한 계획이 있다고 말한 대신 기도만 충분하지 않고 행동해야 한다며 자신에게 표를 달라고 호소했습니다 트럼 후보는 경 베이를 바이든 해리스 정부의 실정이 미국을 실패한 국가로 만들었다며 쇠락한 공업지대 러스트 벨트에 민심을 자극했습니다 부정 선거 가능성도 언급했습니다 특히 지난 두차례 대선에서 트럼프가 승리했던 경합주 아이오에서 5차 범위 내긴 하지만 해리스가 앞선다는 여론조사 결과를 두고 조서를 제기했습니다 사실상 마지막이 될 여론조사 결과도 나왔는데 일곱개 경합주 중 해리스가 네바다 노스 캐롤라이나 위스콘신 조지아 이상네 곳에서 트럼프는 애리조나 한 곳에서 앞섰습니다 모두 5차 범인의 근소한 위였습니다 경합주 중 선거인단이 가장 많은 펜실베이니아 미시간에서 두 후보가 동률로 나와 초박빙 승부의 불확실성을 유지했습니다 워싱턴에서 MBC 뉴스 왕명 입니다')]"
      ]
     },
     "execution_count": 5,
     "metadata": {},
     "output_type": "execute_result"
    }
   ],
   "source": [
    "from langchain_community.document_loaders import YoutubeLoader\n",
    "\n",
    "loader = YoutubeLoader.from_youtube_url(\n",
    "    video_url, \n",
    "    language=['ko', 'en'] # 자막 언어\n",
    ")\n",
    "\n",
    "loader.load()"
   ]
  },
  {
   "cell_type": "code",
   "execution_count": 6,
   "metadata": {},
   "outputs": [
    {
     "data": {
      "text/plain": [
       "[{'id': 'OT80oyGp4hE',\n",
       "  'thumbnails': ['https://i.ytimg.com/vi/OT80oyGp4hE/hq720_2.jpg?sqp=-oaymwE9COgCEMoBSFryq4qpAy8IARUAAAAAGAAlAADIQj0AgKJDeAHwAQH4AbYIgAKAD4oCDAgAEAEYciBLKDcwDw==&rs=AOn4CLDkNUXd9e_KEPNZuUU7UgBkCmikFA',\n",
       "   'https://i.ytimg.com/vi/OT80oyGp4hE/hq720_2.jpg?sqp=-oaymwExCNAFEJQDSFryq4qpAyMIARUAAIhCGADwAQH4AbYIgAKAD4oCDAgAEAEYciBLKDcwDw==&rs=AOn4CLDUiirmCgjVPdeTVcXDksmEaGXHJA'],\n",
       "  'title': '미국 대통령 선거제도 1분 요약',\n",
       "  'long_desc': None,\n",
       "  'channel': '사람사는세상노무현재단 RohMoohyunFoundation',\n",
       "  'duration': '0:58',\n",
       "  'views': '조회수 498,764회',\n",
       "  'publish_time': '3개월 전',\n",
       "  'url_suffix': '/shorts/OT80oyGp4hE',\n",
       "  'video_url': 'http://youtube.com/shorts/OT80oyGp4hE',\n",
       "  'content': [Document(metadata={'source': 'OT80oyGp4hE'}, page_content='그 우리 같은 경우 대통령을 국민이 직접 뽑아서 합산해서 결정되 있잖아요 단 한 표라도 많이 받은 사람이 대통령이 들 되는 건데 미국은 간접 선거 제도예요 사실상 그러니까 주마다 할당돼 있어요 선거인단이 예를 들면 그건 인구에 비례하는데 그 인구가 제일 많은 캘리포니아 같은 경우가 60명이 좀 넘고 그다음 텍사스가 한 55명 되고 제일 작은 메인주 같은 경우 두 명인가 이렇게 대해서 그 할당이 딱 돼 있습니다 그런데 이게 이제 재밌는 거는 주 선거를 해서 이기면 그걸 다 먹습니다 승자독식을라 두 군대 주 빼고 예외적으로 있는 네 델라 군는 나지는 승자독식이 그니까 캘리포니아에서 한라도 이기면 60명을 다 가지는 그렇게 그 독식을 하게 돼 있고 이제 그러다 보니까 이제이 문제가 뭐냐 전국민의 선거는 이겨도 선거인단에 질 수가 있어요 그죠 그니까 그게 지금 미국에서 실제로 공화당이 딱 한 번만 그 전체 투표에서 이겼는데 21세기 들어와서 예 21세기 들어와가지고 대통령을 세 번 가지고 가는 그 이게 문제가 있다는 거죠 국민의 대의가 제대로 반영되지 않는다 이렇게 생각을 하는 겁니다')]},\n",
       " {'id': 'wHezy_eW7gA',\n",
       "  'thumbnails': ['https://i.ytimg.com/vi/wHezy_eW7gA/hq720.jpg?sqp=-oaymwE9COgCEMoBSFryq4qpAy8IARUAAAAAGAAlAADIQj0AgKJDeAHwAQH4AbYIgAKAD4oCDAgAEAEYYyBPKGUwDw==&rs=AOn4CLCesjmPVnB2uLzCKRSdH6b4Kj3Azw',\n",
       "   'https://i.ytimg.com/vi/wHezy_eW7gA/hq720.jpg?sqp=-oaymwExCNAFEJQDSFryq4qpAyMIARUAAIhCGADwAQH4AbYIgAKAD4oCDAgAEAEYYyBPKGUwDw==&rs=AOn4CLBT6D-MnTV4n9piqcpmEZsdfhZV2w'],\n",
       "  'title': '🇺🇸미국 대선 트럼프 당선되면 미국 비자 전망은? #미국이민 #연율이민법인 #김혜욱변호사 #미국변호사',\n",
       "  'long_desc': None,\n",
       "  'channel': '연율 이민',\n",
       "  'duration': '0:41',\n",
       "  'views': '조회수 343,094회',\n",
       "  'publish_time': '3개월 전',\n",
       "  'url_suffix': '/shorts/wHezy_eW7gA',\n",
       "  'video_url': 'http://youtube.com/shorts/wHezy_eW7gA',\n",
       "  'content': [Document(metadata={'source': 'wHezy_eW7gA'}, page_content='워낙에 트럼프는 연쇄 민이라고 가지고 한 사람이 영주권 따면 그 사람이 시민권 따고 가족들 줄줄이 초청하고 형제 초청하고 이런 연쇄적인 형태를 굉장히 싫어하고 트럼프의 기본적인 골자가 국익에 도움이 되는 사람만 뽑자 약간 이런 주의이기 때문에 변화는 있을 거 같아요 원이라는 niw든지 런 식의 취업 이민 같은 경우에는 큰 차이나 변경은 거의 없을 거로 봅니다 그런데 취업 이민 중에 순이나 삼순위 중에서 도 숙련 전문직은 조금 그래도 낫다고 해도 비숙련 직에 해당되는 취업 이민 카테고리는 조금 타격을 받기는 해요 인터뷰가 좀 안 잡히거나 좀 그렇기는 하죠')]},\n",
       " {'id': 'atarXGyZ7PA',\n",
       "  'thumbnails': ['https://i.ytimg.com/vi/atarXGyZ7PA/hq720.jpg?sqp=-oaymwEjCOgCEMoBSFryq4qpAxUIARUAAAAAGAElAADIQj0AgKJDeAE=&rs=AOn4CLCXyvmwUZIWLAV_E3AzWrVdldwN7g',\n",
       "   'https://i.ytimg.com/vi/atarXGyZ7PA/hq720.jpg?sqp=-oaymwEXCNAFEJQDSFryq4qpAwkIARUAAIhCGAE=&rs=AOn4CLAR8N_RKF1kvl2QEhEUDKKuSPGC3g'],\n",
       "  'title': '[트럼프 2.0 프리뷰] 트럼프의 귀환! 그리고 떨고 있는 중국? | 트럼프, 미국, 중국',\n",
       "  'long_desc': None,\n",
       "  'channel': '김지윤의 지식Play',\n",
       "  'duration': '38:31',\n",
       "  'views': '조회수 1,192,604회',\n",
       "  'publish_time': '3개월 전',\n",
       "  'url_suffix': '/watch?v=atarXGyZ7PA&pp=ygUN66-46rWtIOuMgOyEoA%3D%3D',\n",
       "  'video_url': 'http://youtube.com/watch?v=atarXGyZ7PA&pp=ygUN66-46rWtIOuMgOyEoA%3D%3D',\n",
       "  'content': [Document(metadata={'source': 'atarXGyZ7PA'}, page_content='안녕하세요 김지은입니다 얼마 전 미국 대통령 선거가 끝났죠네 트럼프 전 대통령 이제 현직 대통령으로 다시 돌아오게 됐는데요 아무래도 미국의 대통령이다 보니까 전 세계에서 반응도 있고 또 준비를 하는 모습을 보이고 있습니다 그래서 이번에 약간 시리즈로 저희가 한번 준비를 해봤는데요 그중에서도 첫 번째로 과연 중국은 지금 어떤 생각을 하고 있고 또 어떤 준비를 하고 있는지 호서대학교 전가림 교수님과 함께 이야기를 나눠보겠습니다 안녕하세 네 안녕하세요 교수님 얼마 전 중국 다녀오셨다고네 다녀왔습니다 두 번 다녀왔습니다 제가 사실은 이제 톡으로이 섭외를 하려고 보내 드렸는데 답이 안 오는 거예요 차단하나요 했는데 나중에 오니까 중국을 다녀오시고네 그렇습니다 중국에서는 우리가 사용하고 있는 SNS 같은 거 잘 안 되거든요 예 뭐 네이버 카톡 이런 거 잘 안 됩니다 차단되는 거죠 예 최근에 다녀 오셨으니까 분위기를 좀 잘 알고 저대 알려 주실 수 있을 것 같은데 어 트럼프 대통령 다시 당선이 됐다라는 얘기를 중국에서 듣고 반응이 어떻던가요 그냥 걱정이 수심에 한가득 찬 사람들처럼 걱정이 많은 거 같습니다 뭐 한 간에서는 야 이제 약한 고리 트럼프가 과거 일기 때 했던 동맹국과 우방국에 대한 어떤 태도 같은 것 때문에 오히려 그런 약한 고리를 잘 이용하면음 미국을 공략하는 것도 한 방법이 될 수 있겠다라는 생각이 있었다라고 들 사람들은 생각하지만 그런 생각 별로 없습니다 왜냐면 1기 때 너무 고생을 했거든요 제가 그러면은 중국에 관련돼 가지고선 트럼프 행정부 1기 때 상황을 잠깐 설명을 드릴게요 1기 때 트럼프 행정부는 먼저 법인세 인화를 했습니다 그건 국내적인 문제 그래서네 대게 이제 미국 경제를 좀 일으킬 수 있는 그런 이제 조치를 취한 거죠 그리고 나서 바로 취한 행동이 관세 중국에 대해서 이제 관세를 때리기 시작했는데 그때 아이러니라고 해도 굉장히 희한한 일이 일어납니다 중국이 거 았네요음 관세 20% 그럼 나도 20% 나 30% 너도 30% 경쟁하되 이렇게 진행이 되다 보니까 트럼프가 약간 좀 화가 났을 겁니다 더군다나 중국 정부에서는 인민폐 그러니까 중국 돈의 위안화에 대한 평가 절화를 통해 가지고선 관세가 아무런 효과가 없게 만들었습니다 그러니까 두 가지 효과를 다진 거죠 같이 보복을 하면서 자국내 국민들한테는 인민들는 굉장히 여 봐라 우리 지도자가 잘하고 있지 않냐 그다 우리는 또 하나의 수단이 있다 뭐 공개된 그 환율 정책이 아니니까 환율 인하를 통해 가지고선 관세에 관세를 무용하게 만드는 거죠 그 정책을 쳤습니다 그래서 아이 오히려 효과가 없는 걸로 나타났어요 그래서 당시에 무역도 증가했고 무역에 또 미국의 적자는 더 늘어났고요 그래서 미국이 다시 취한 정책이 협상으로 들어가자 농산물을 사라 관세는 50% 매기겠다고 는 20% 줄었고요 사겠다는 농산물은 다 안 샀습니다 왜냐면 연임이 되지 못해 가지고선 그걸 추진할 수가 없었어요 바이든 정부는 20% 관세를 계속 유지를 해 왔고요 그래서 일단 그렇게 끝나고 요번에 다시 됐는데 그럼 요번은 어떻게 하냐 큰 맥락은 저는 안 바뀔 거라고 생각합니다 왜냐면 관세가 가장 유용하다 중국을 공략하기 특히 지금과 같이 미국 달러화는 절대적인 강세고 전 세계 모든 화폐는 약세를 하고 있는 상황에서는 미국이 배신이라 그러죠 회초리로 후려칠 때는 진짜 피멍이 들 정도로 맞을 수밖에 없는 상황이다 그래서 관세는 놓지 않을 거고 트럼프가 경성 과정에서도 자신을 관세 대통령이라고 지칭을 했습니다 더군다나 군사적으로 그리고 과학 기술적으로 중국을 압박해 가는 강도가 훨씬 더 강할거다 그리고 그러한 4년의 경험이 있기 때문에 아마 중국은 굉장히 고민스러울 겁니다 왜냐면 2018년도에 한때 잠깐 중국과 미국이 관계가 좋았을 때가 있었어요 그래서 시진핑은 너무 기쁜 나머지 자금성으로 트럼프와 트럼프 부인을 초청을 합니다 그때는 관광객도 받지 않았어요 자금성의 방이 모두 몇 개인지 아십니까 많겠죠 많아요 9999개 그래서 하나만 더 하다면 만 만개가 되기 때문에 만세라고 황제의 건강을 얘기할 때 만세 만세 만세하고 삼창을 하는 이유도 바로 9999개 오래오래 장수하라는 뭐 요런 의미를 갖고 있기 때문에 그렇습니다 근데 그 장소를 모두 트럼프한테 내줬어요 그 트럼프는 온갖 호사를 다 누린 겁니다 그리고 미국에 가자마자 바로 무역 보복을 했죠 그래서 제가 봤을 때 중국 사람들이 아 트럼프가 우방국과 동맹국에 대해서 분열을 조장하기 때문에 우리한테는 오히려 국제관계에서 그리고 전략적인 측면에서 더 유리할 것이다 한다한 판단은 과거의 경험에 미루어 본다 그러면은 그건 조금 좀 나이브한 생각 같다라는 생각이고 또 그럴 거 같지도 않다라는게 제 생각입니다 그니까 왜냐면은 의견이 분분했었다 중국은 과연 누구를 더 반길 것이냐 트럼프를 더 반길 것이다라고 하는 사람들이 했던 얘기가 주로 그거였어요 왜냐면은 이제 트럼프 대통령 전에 이제 그걸 보면은 동맹국에 대해서 굉장히 안 좋은 생각을 갖고 있잖아요 그러니까 유럽에서도 그렇고 사실 뭐 우리도 뭐 일본도 그렇고 좀 힘든 시간을 있었는데 아 그렇게 되면 서유럽과 이쪽의 동맹이 흐트러지고 그러면서 일종에 약간 그 틈이 생기 되면은 훨씬 중국을 그쪽을 좋아할 것이고 뭐 최근으로는 뭐 수출이나 수입이나 이런 것도 다각화를 많이 해서 경제적으로 대비를 해 놨다는 얘기들도 하는 사람이 있거든요 근데 교수님 말씀 들어 보면은 그것보다도 일단은 관세 아든 뭐 경제적으로 지금 중국이 힘들다 보니까 굉장히 당혹스럽다 교수님이 정착을 하셨기 때문에 잘 아시겠지만 우리가 행태주의적 있 분석 그러니까 사람의 행위나 심리적인 분석을 추가해서 보게 되면은 중국은 나라를 다스리는데 기본적으로 세 개의 단계로 나라를 다스립니다 나라를 다스리는 그 세 개의 단계는 곧 국제 관계에서도 똑같이 적용이 돼요 첫 번째가 힘을 키워라 그래서 모든 왕조가 힘을 길렀습니다 그걸 새라 그럽니다 세력 할 때 세자를 써요 그리고 두 번째 단계는 그 세력을 바탕으로 전략을 쓰는 건데 그때 그 전략을 술이라 그럽니다 전술 할 때 술자에 그건 전제 조건이 있습니다 상대방이 전혀 알아보지 못하고 예견하지 못해야 된다는 전제가 있습니다 그래서 던졌을 때 그 충격파가 엄청나다라는 그런 특징이 있거든요 마지막엔 칩입니다 그런 나의 룰에 의해서 내 제도로 다스리겠다는 겁니다 그래서 기본적으로는 세 단계를 거치는데 지금과 같은 현대 사회에는 정부의 정책이라는 방향 같은 것들이 모두 공개 투명 이거를 지향하고 있기 때문에 굉장히 새 술 치 세 단계를 꾸려 나가기가 쉽지 않아요 사회주의 국가에서도 상당히 힘든 부분이 있습니다음 예를 들어서 경제정책 같은 경우에는 공표를 안 하는 이유도 그런 이유긴 하지만 다른 거는 우리가 보통 얘기 할 수 있거든요 근데 미국에 한 사람이 그거를 중국 사람보다 더 잘 사용하고 있어요 그게 바로 트럼프 예측부네 조금 전에 말씀드렸다시피 자금성에서 신나게 온갖 향응을 만끽하고 바로 돌아와서 중국을 때린다 그거 상상하기 힘든 겁니다 그리고 어 환율로 안 돼 그러면은 다른 방법을 써야지 우리가 보통 어 연준 같은 경우에 독립성을 인정하거나 중앙은행에 해당되기 때문에 근데 연준 금리 아니 인하하지 않으면은 내가 해 해고 시킨다는 얘기 하잖아요 그 트럼프의 특징입니다 근데 그걸 실천을 해요 그러니까 사람들은 그런 공포감이 있는 거예요 이게 허장성세 럼 말만 떠들면 지나면은 없겠지라고 생각을 하지만 그걸 보여 준단 말이에요 관세전쟁 얘기했지만 관세 정쟁 했어요 그리고 무역 협상하겠다 그랬고 협상 했고 환율을 가지고 얘기했 을 때 또 환율을 했고 다 했습니다 그리고 심지어 중국을 압박하기 위해서 인도 태평양 전략 사실은 1번의 아이디어인데 인태 전략이라 그래가지고 저작권 침해제보 예 그래서 그런 걸 싹 바꿔 놓은 것도 트럼프 그래서 사실 우리가 지난 4년 동안 바이든 정부를 봤을 때 뭐 여러 가지 일을 한 거 같지만 트럼프의 틀 안에서 상당히 많은 일을 했다 트럼프가 상당히 넓고 두꺼운 방석을 깔아줬다고 저는 생각을 합니다 아 그러면 이제 중국은 일단 트럼프의 귀환에 대해서 공포심을 갖고 있다라고 하셨는데요 대만은 어떤가요 대만도 그렇게 편하지 않을 겁니다 첫 번째로는 예측이 불가하다는 건 누구한테나 불안감으로 작용하거나 미국이 좋아질 수도 있다라는 불안감 아하이 사람이 상인이 때문에 그렇지만 지금까지는 좋아진 모습을 보이지 않았기 때문에 그쪽 측면에서는 안도할 수 있습니다 그렇지만 거기에 상응한 조치와 대가를 지불해야 된다라는 거를 청구서로 내밀 고 있습니다 뭐 무기 판매라 아니면은 방위비는 뭐 이런 여러 가지 얘기를 하고 있고 심지어 최근 들어서는 이제 대만의 tsmc 같은 경우는 미국에 투자하는 거 지원금을 줄까 말까의 문제도 있을 수 있고 그래서 그런 문제를 보게 되면은 대만은 마음이 썩 편하지만은 않을 것이다 힘센 형이 있긴 한데 그 형이 예측 불가다 그게 문제입니다 모든 사람이 다 불안한 겁니다 그거를 우리가 1기 때 다 경험했어요 유럽은 유럽 대로 맞아요 중국대로 김정은도 그렇죠 우리도 마찬가지였고 그래서 전 세계가 지금 다 일종의 공포 편안할 수 없는 공포에 있다라고 얘기할 수 그렇군요 일단 뭐 중국 외교부에서는 되게 원론적인 반응을 내놨어요 무역 전쟁이 모두에게 이롭지 않다 뭐 이런 얘기라는 뭐 그래서 우리 뭐 자기네들 준비돼 있다라는 식으로 반응을 내놨는데 교수님 말씀 들어 보면은 별로 그렇지 않은 거 같은데요 어 몇 가지 사례를 들려 드리겠습니다 우리가 전인대 상무 위원회라는 회의가 얼마 전에 끝났거든요 8일 날 끝났습니다 원래이 회는 짝수 달에 거행을 해야 돼요 짝수달 말에 그래서 10월 말에 해야 되는데 굳이 11월 8일 날 끝나는 걸로 했습니다 어 그건 뭐냐 선거 개표되는 상황을 보겠다 근데 미국이 선거가 시차가 있기 때문에 하루에 다 개표를 해서 결과가 알기가 힘든 상황이 예전에 트럼프 행정부 1기 때 있었죠 그러니까 결과를 보기 위해서 최소한 한 3일 4일 정도면 어느 정도 윤곽이 잡히지 않을까라고 계산한 거 같습니다 근데 너무 빨리 나왔잖아요 그래서 8일 날 공포 하기로 했던 각가지 경제 예측들이 다 무효가 됩니다 왜 지금 내놓는 건 취임 때 1월 20일 날 트럼프 또 한 번 봐야 돼 그러면 차라리 그때 터뜨리자서 미는 겁니다 그래서 요번에 재정정책을 발표를 한 걸 보면은 경기 부양 책이라고 할 수 없습니다 과거에 여러 가지 부채를 어떻게 더 지연시키고 연장시키는 가의 문제에 집중돼 있다라는 측면에서 보게 되면은 어 전인대 상무 위원회도 트럼프 의 어떤 선거 결과를 지켜봤다 요새 들어서 중국이 약간 뭐 브라고 얘기를 하죠 매력 공세 뭐 이런 걸 하는 것 같은 느낌적 느낌이 들긴 하거든요 뭐 인도 하고의 국경 분제 문장이라는 그 느닷없이 우리한테 무비자 그 똑 던진 것도 해달라고 한 적도 없는데 던졌지 호주에 또 리창 총리가 또 방문을 하기도 했고 그래서 아 뭔가 이제 트럼프 이기가 들어서기 전에이 국가들 고의 어떤 껄끄러운 관계를 조금 마무리를 하려는 것인가 뭐 이런 생각 또 들긴 했는데 교수님은 어떻게 보셨어요 트럼프가 연임하지 않았다라는 점이 우리한테 굉장히 많은 학습 효과 그리고 근거 자료 그리고 참고 문헌을 제공하고 있다고 저는 봅니다 1기 때 어떤 상황이 벌어졌나 동맹 국가도 동맹 국가 같지 않은 느낌 우방 국가도 우방국 같지 않은 느낌을 트럼프가 가꾸게 줬어요 우리가 그때 기억이 나실지 모르겠습니다 아베가 골프를 치면서 골프 장에서 막 엎어지는 일도 있고 대굴대굴 부르기도 했고요 트럼프의 눈치를 봐야 되는 상황에 이르렀다는 겁니다 그러면 지금 상황에서 보게 되면은 과거의 그러한 경험에서 보게 되면은 유럽은 심리적인 준비를 해야 될 겁니다 이제 관계가 예전 같지 않다 우리도 그 전의 관계를 유지하기 힘들 것이다라고 판단을 할 거고 그러면은 그거는 중국의 입장에서 보면은 미국과 유럽 간의 틈이라도 볼 수 있겠죠 그리고 또 한국과 일본도 마찬가지일 거고요 그러면 그 사회를 비집고 들어오는 거는 어떤 면에서 보면은 중국 외교에 해야 될 일을 하는 거라고 볼 수 있습니다 예 그러니까 중국이 난대없이 어 무비자 협적 일부에서는 무비자를 어 공포를 한 거를 중국의 경제 문제 때문이라고 얘기를 해요 근데 어 작년 한해에 한국에서 중국을 방문한 사람이 17만 명 중국에서 한국을 방문한 사람이 17만 7천명 17만 가지고는 중국 경제 일어나지 않습니다 그건 뭐냐 미리 포석을 둔다 내년에 정도 되게 되면은 윤 정부도 마지막 정부고 그리고이 정부 기간 동안에도 시진 의 방하은 없었다 근데 내년은 또 경주에서 행사가 있기 때문에 참 안 오기 힘든 그런 상황이 연출될 수도 있다라는 겁니다 그거를 위해서 페루에서 있었던 팩이라는 G20 일종의 분위기 잡는 모드가 이제 시작이 됐다라고 봅니다 그리고 또 그러한 거를 어떻게 할 수 있냐 지금 한국에 주지하고 있는 중국 각 언론사의 특파원들이 각 공공 기관을 방문합니다 공공기관의 수장들을 인터뷰를 하고 한중관계를 얘기하고 그럽니다 네 그래서 저는 상당히 분위기 조성을 지금부터 참 열심히 좀 선제적으로 하고 있다라고 봅니다 그런 측면에서 우리가 무비자와 일방적인 발표를 이해를 해야지 뭐 한국인들이 가서 얼마나 돈을 쓰겠습니다 돈 못 씁니다 뭐 한국인들의 어떤 관광 소비를 촉진시키기 위해서 경제적인 측면에서의 고려다 전 그렇게 생각하지 않습니다 굉장히 전략적이다 그래서 사전에 굉장히 여러 군데 포석 마치 바둑을 두는 거와 마찬가지입니다 지금 중국이 하고 있는 작업은 지금 시작 바둑을 막 시작하는 그런 단계의 모습을 보이는 거 같습니다 한국이 좋아서 저는 그렇게 생각하지 않습니다 그렇군요 근데 예전에 이제 트럼프 일기 때요 그때 당시에 이제 자도 기억하기를 특히 이제 유럽 같은 경우가 굉장히 좀 알레르기 반응을 일으켰던 걸로 생각을 하거든요 그러면서 야 다른 패권국으로 우리가 좀 더 가까이 해 보는게 어떠냐 해서 중국에 조금 신호를 보내기도 했고 또 중국도 마찬가지고 그랬데 시간이 지나면서 중국 은 아닌 것 같아라는 얘기를 이제 유럽 측에서 하기 시작을 했거든요 제가 그걸 기억을 하는데 매력 공세를 중국 측에서 한다고 뭐 유럽이라는 또 다른 국가들이 반응을 할 것인가요 부분도 되게 궁금하기는 해요네 박사님 말씀이 맞습니다 그 차음 오펜시브 얘기하는 처음이 매력 아닙니까 근데 그게 매력적으로 다가오지 않았다라는 거죠 매력이 위협 같이 보였고 그리고 공포 같이 보였고 그 너무 좀 세게 했어요 그때네 그리고 부드럽지 못했다는 겁니다 그래서 전랑 외교라는 말 네는 단어도 오 중국과 관련해 가지고 하나도 뭉글뭉글 둥글둥글한 내용이 없 다 죽하고 날카롭고 하는 느낌이 있다라는 거는 중국 외교가 상당히 큰 문제점을 안고 있다 참 오펜시브 거는 어떤 면에서 보면 가장 경제적인 겁니다 비용을 최소화하면서 상대방의 매력을 통해 가지고선 나의 호감도를 증가시키고 장기적으로 그런 호감도가 유지되게 만드는 거거든요 뭐 대표적으로 우리가 얘기하는 한류 같은 거 얘기할 수 있습니다 근데 중국에 그렇게 날카롭고 사납고 하는 외교 정책을 취한다는 거 일단 중국이 반성해야 될 부분이라고 저는 생각합니다 받아들이는 입장을 전혀 고려하지 않았다라는 거죠 두 번째로는 이런 점이 있습니다게 중국 사람들은 무 누구나 다 알 텐데요 군자는 의에 밝고 소인은 이에 밝다고 그랬습니다 그니까 소인들은 돈 얘기를 해요 근데 이게 중국에만 해당되는게 아닙니다 외국도 마찬가지일 겁니다 유럽 사람들이 트럼프에 대해서 별로 안 좋은 인상을 갖고 있다라는 거는 동맹국의 에 대해서 돈을 먼저 언급하고 안보와 생존과 그리고 어떤 협력과 관계에 있어서 돈이 다른 거보다 우선시 했기 때문에 그런 이미지를 받았고 그거를 이제 아이 사람은 군자가 아니라 소인이 하는 시각에서 봤을 거라고 저는 판단을 합니다 물론 이게 유럽의 소인이란 말이 있는지 군자란 말이 있는지 잘 모르겠지만 분명히 그런 이미지는 있을 거라고 저는 생각을 하거든요 근데 이런 과정 속에서 중국한테는 오히려 상당히 어떤 공간이 넓어지는 효과를가 에도 불구하고 중국이 그걸 잘 활용 못했습니다 그럼 몇 가지 사례를 들게 되면 중국이 저가로 물건을 많이 팔았죠 자기의 적가 물건을 팔아서 재고는 털었는데 해당 국가의 중소 상공인들은 망했다라는 거죠 공생을 얘기하면서 인류 운명 공동체라고 얘기하지 않았습니까 시진핑이 운명 공동체인데 한쪽은 죽어야지 내가 산다라고 하는 거는 운명 공동체에 맞지 않습니다 두 번째로는 코로나의 상황 아직도 원인 불명입니다 조사를 들어가겠다 는데 조사 못하게 하죠 그리고 협력을 한다 그래놓고 대로라는 걸 통해 가지고선 자금들을 많이 후진국에 줬어요 근데 후진국이 코로나의 영향으로 자금을 못 갚으 뭐 그러면은 한구 100년 100년만 쓸게 그거 100년 전에 진짜 제국주의 열강들이 하 그러니까 영국 했던지 똑같이 하고 있어 똑같이 하고 있습니다 그러면서도 어 서방을 비난할 땐 제국주의 제국주의는 상도가 없는 거 패도를 하는 국가 이런 식으로 표현 을 하거든요 근데 본인 스스로가 그걸 하고 있다라는 거는 지극히 모순된 거죠 그러면서도 거기에 대해서 정당성을 부여하니까 그걸 보기 싫은 거죠 그래서 요즘 중국이 인기가 없는 거라고 저는 생각을 합니다네 우크라이나 전쟁 이야기를 조금 해 볼게요 중국이랑 직접적인 관련은 아니지만 우크라이나 전쟁 이후에 러시아가 중국에 굉장히 의존을 하게 되는 형태로 바뀌었잖아요 만약에 트럼프 행정부가 들어서서 지금 내건 약속 중에 하나가 내가 대통령이면 24시간 내 끝낸다는 얘기를 했어요 뭐 24시간내는 아닐지라도 도 분명히 끝내려는 의지는 굉장히 단호하기 때문에 내년에는 뭐 청전이 되지 않겠냐라는 얘기들이 나오는데 그렇게 되면은 중국하고 러시아의 관계도 조금 달라질까요 지금은 일단은 러시아가 굉장히 이렇게 기고 들어가는 모습이 있거든요네 중국과 러시아는 물과 기름이 만약에 물과 기름이 어쩌다가 한번 섞였다 그거는 전략적 제유 굉장히 단기간에 서로가 공포스럽게 생기는 생각하는 적이 나타났을 때 그런 협력을 합니다 그때가 바로 트럼프 때였어요음 근데 트럼프가 지나고 난 다음에는 별로 좋지 않습니다 우크라이나 전쟁 좋아질 수밖에 없죠 왜냐면 제재를 받으니까 기름 못 팔고 천연가스 못 팔거든요 근데 중국이 이런 얘기를 합니다 러시아에 대해서 야 유연화로 결제하자 그러면 너 환율 하면서 수수도 안 내니까 좋을 거 아니야 그래서 외화를 결제를 했는데 가만히 보니까 중국의 중앙은행 발 그 발권이 투명하지 않아요 그냥 막 찍어내는 거 같은 거예요 그래서 어 러시아가 중국 돈을 받아서 다시 중국에 갖고 가서 이런 얘기를 합니다 달러로 바꿔 줘 중국이 믿었지 못한 행동을 계속 해 왔다라는 거죠 그래서 두 국가는 엄청난 긴 거리에 국경선을 맞대고 있을뿐만 아니라 우리가 보통 한산에 두 마리의 사자가 호랑이가 있을 수 없다시피 서로의 패권을 경쟁하는 나라기 때문에 굉장히 힘들다 걷다가 생각하는게 다릅니다 한 사람은 과거의 영광을 제언하고 싶어 하는 거고 한 사람은 지금 영광은 없지만 나중에 영광을 찾을 거야라는 생각 전자가 러시아고백 왔습니다 그 세 사람의 공통된 생각은 나만이이 문제를 해결할 수 있어 나만이 강력한 힘을 휘두를 수 있고 내 아이디어가 최고야 자 그래서 여러분들은 희생을 해야 돼 첫 번째 민족주의 두 번째 애국주의 그러다 보니까 참여하게 대립할 수밖에 없습니다 그러면 우리가 지금 러시아와 중국 관계만 얘기를 하니까 그럼 중국과 러시아는 좋아질 있냐 없죠 러시아는 트럼프가 손짓할 때마다 너무나 기분이 좋을 거예요 아마 중국은 트럼프가 손짓할 때마다 저건 뭐지 저 뒤에는 뭐가 있을까 하고 불안불안해 할 겁니다 그런 상황이 연출된다 그러면은 중국과 러시아 관계 지금 상황에서는 좋아질 이유가 없다 여기 북한까지 뛰어 들었잖아요 그죠 그랬다가 만약에 양자를 놓고 둘 다 괴롭힌다 트럼프가 그러면은 또 전략적 제휴하지 필요에 의해서 미국에 대항을 해야 되니까 근데 그럴 가능성은 저는 크지 않다라고 봅니다서 요번에서 북한이 파병을 하면서 사실 뭐 그전부터 북한하고 러시아 하고 이제 서로 간의 사실상의 상호 안보 조약을 맺은 거고 올해 월단 죠네 굉장히 불편한 심기를 갖고 있다 중국이 그것에 대해서 얘기가 나왔었거든요네 그렇습니다 그 중국의 특성 중에 하나가 모든 걸 다 내가 알아야 돼 내 통제 범위 내 있어야 돼 그런 생각을 갖고 있습니다 그게 가장 장 큰 문제입니다 모든 건 내 앞에서 벌어져야 되고 내가 관리할 수 있어야 된다라는 겁니다 근데 지금 북한이 뛰어 나갔어요 그래서 러시아랑 손잡고 같이 사회 좋게 행진을 하든지 뭘 하고 있습니다 중국으로서는 굉장히 힘들죠 두 번째로는 북한을 관리했던 관리 비용이 점점 많이 들고 있다라는 겁니다 예전은 그냥 식량 그리고 석유 조금 주고 평양만 유지하면 되는데 평양을 유지할 수 있는 세력이 또 하나 생겼다라는 거예요 러시아 예 지금 중국 베이징은 모스코바 하고 그 경쟁을 해야 된다는 겁니다 근데 트럼프도 껴 들었어요 왜 같이 햄버거 먹는 친구 사이 김정은이랑 어 우리는 아주 관계가 좋다 그렇죠 두 번이나 만났으니까 그런 걸 보게 되면은 어 중국은 지금 굉장히 복잡한 셈법을 해야 된다 그리고이 과정 속에서 예전에는 내 손하기 위해서 놀던 애가 이제는 다른 아빠 엄마를 찾으면서 돌아다니는 거 굉장히 불만족스럽게 생각할 겁니다 그래서 중국의 입장에서 보게 되면 북한 지금 영 마음에 안 든다고 볼 수 있겠죠 근데 딱히 제재할 방법도 없습니다 왜 제재를 해서 더 상대방의 품으로 가게 되면은 비용은 더 드는 거예요 그 비용은 금전적인 비용이 아닙니다 예를 들어서 북한이 미사일을 많이 쏘게 되면은 미국의 전략 자선이 한한 반도로 오게 되거든요 그럼 레이다가 켜지면서 중국은 노출이 되는 거고 중국은 또 전략 자산이 옴으로 인해 가지고선 거기에 대비해야 되니까 비용이 증가하고 체력 소진이 되겠죠 걷다가 경제적인 측면 금융적인 측면 무역적자 다 압박을 해 갖고 오면은 그걸 상대하기가 굉장히 힘들다 그리고 과거 트럼프 1기 된 코드라는 걸 가지고 뭐 미국 그리고 일본 호주 그리고 인도가 이렇게 북방으로 몰아가는 형태였는데 지금 조금 전에 러시아 구도 안 좋다라는 거는 위에서는 내려오고 밑에서는 치고 올라가고 중국의 샌드위치의 가운데에 낀 격이 됐거든요 그러면은 중국의 입장에서 보게 되면은 참 골차는 거죠 그리고 중국이 계속 얘기하고 있는게 인류의 공동체 운명 공동체 그리고 책임 있는 대구 위대한 중화로 세상은 아름다워질 수 있다 근데 우리가 불량국가 얘기할 때 중국은 빠지지 않고 계속 들어가거든요 그 이미지가 북한으로 더 더해지고 러시아로부터 더 더해진다 그러면은 중국은 굉장히 그런 외교적인 어떤 레토릭을 구사하기 굉장히 힘든 상황이 될 겁니다 특히 유럽에서 그런 이미지를 갖는 것에 대해서 굉장히 저어하는 거 같더라고요 그니까는 그래서 뭐 하려고 하고 우크라이나 전쟁 우리는 모른 척하고 있는데 사실 뭐 아는 사람들 다 알잖아요 중국이 이제 뭐 석유를 팔아주고 뭐 천연가스 팔아주고함으로써 금전적으로 사실상 도와주고 있다라는 거라든지 북한하고 사실 마찬가지고 그래서 그런 이미지를 패 권고로 성장하기 위해서는 좀 없애야 되는데이 부분에서 중국이 매우 난관에 있다 뭐 그렇게 보여지기도 하고요네네 맞습니다 근데 만약에 우크라이나 전쟁이 그럼 끝나면은 북한하고 러시아의 지금 보이는 밀월 관계도 끝날까 밀월 관계는 이제 결산 단계로 가야 될 겁니다 계산을 하는 단계 지금까지는 지금까지는 같이 밥 먹고 했으면은 네가 먹은 밥은 네가 내고 내가 먹은 밥은 내가 먹은 밥은 내가 내야 되는데 계산은 거꾸로 하게 될 겁니다 아마 러시아가 북한의 진빚 러시아는 언젠간 갚아야 된다라고 북한을 생각할 거고 북한은 또 그런 기대감이 굉장히 높을 거라고 생각할 겁니다 그리고 그러한 것을 또 흥정 리로 미국이랑 얘기를 할 겁니다 그래서 아마 미사 대륙간 탄도 미사일의 성공이라는 위성 발사의 성공이라는 아니면은 이런 전략 무기의 성공을 통해서 미국과 북미 간의 어떤 대화 통미 복남이 그러지 않습니까 그거를 아마 재연하고자 하는 그런 목적을 한번 다시 시도할 수도 있겠죠 그렇군요 대만 이얘기를 좀 해 볼게요 라이팅도 총통이 10월 10일 이게 쌍십절이라고 얘기를 하잖아요 이제 굉장히 중요한 날인데 그때 연설을 했단 말이에요 대만 독립 얘기까지 안 했지만 약간 자기네 이제 정체성을 드러내는 발언을 했고 근데 사실은 취입 연설보다 그래도 좀 톤다운 됐다라는 얘기들을 했었어요 뭔가 협력적인 관계에 대한 뉘앙스도 비치고 근데 그럼에도 불구하고 중국은 막 했거든요 그래서 나왔던 얘기가 대만이 무슨 얘기를 해도 중국은 언제든지 칠 준비가 돼 있던 거를 보여 주려고 한다 뭐 이런 얘기들이 있었어요 제가 기억하기로는 1월 달에 박사님이랑 바로요 자리에서 어 취임식과 관련 선거와 관련돼 가지고 그선 그 방송을 진행 네네 한걸 기억하는데요 취임식의 내용을 보게 되면은 어 상당히 정제된 단어들을 많이 썼습니다 그 대신 중국을 언급하지 않았고 양한 관계를 특별하게 언급하지 않았습니다 근데 요번 쌍십절 날 중화민국의 건국일 날에는 중국어를 아는 사람의 입장에서 보게 되면은이 사람 미쳤나 할 정도로 너무나 강력했습니다음 중국이 제일 싫어하는 단어가 대만이 국가로서 표현되는 겁니다 지방정부나 중국의 일부분 네네가가 관계라고기를 합니다 그리고 너는 1949년도에 건립된 나라고 나는 그 전에 있었던 나라다 난 100년이 넘은 역사를 갖고 있고 넌 이제 75년 됐다라고 얘기를 합니다 자꾸 쌍십절 발언 속에서 구별을 해 갑니다 그게 바로 이제 조금 전에 말씀하신 양국이 그든 중국으로 보게 되면은 이거는 단어만 사용하지 않았지 완전히 독립이라는 단어하나 그래서 듣는 사람 입장에서 보면 모든 대륙에 살고 있는 중국인들은 쟤네들 독립하려고 그러네라는 거를 완전히 확인할 수 있었던 거고 대만에 있는 사람들의 시각에서 보면은 참 단어 사용 잘하네 독립이란 말 빼고 선도 저렇게 표현할 수 있구나라고 생각했을 겁니다 그러나 그걸 영어로 풀게 되면은 어 톤다운 됐네 왜 예 대만을 국가로 표현하지 않고 독립이란 단어도 쓰지 않고 하니까 그런데 사실상 10절 발언은 굉장히 센 겁니다 그래서 그 발언이 있자마자 대만을 둘러싸고 여덟 개 구역에서 대만을 포위한 상태에서 군사 훈련을 했어요 물론 군사 훈련을 하루도 못 갔지만 중국어를 모르는 사람과 아는 사람의 차이인 거지 그래서 굉장히 그거는 심한 용어였다 저는 봅니다 그래서 어 실무적인 대만 독립 분자라고 스스로를 지칭한 라이칭더 대만 종 총통은 자기 본연의 어떤 역할을 보여줬다 여태 까지 우리가 알고 있는 중국으로부터 유협 속에서 우리의 몸보신을 위해서 상당히 절제된 단어를 사용하는 것을 미덕이라고 생각해 왔고 그것이 우리의 신변을 안전하는 단보라멘 라는 표현을 쓰고요 두 번째로는 가라앉지 않는 항공모함이 그 메가더 장군의 말을 지금도 전략적 지정학적으로 그걸 강조하고 있고 트럼프가 돈 얘기를 많이 하는데 차라리 돈 얘기하는게 좋다라는게 대만 입장입니다 얼마면돼 그렇죠 캐시 카은 충분히 있으니까 지금은 문제는 뭐냐하면 나를 버리는게 겁나는 거지 내 돈이 좋아서라고 나한테 관심을 갖는 거는 전혀 뭐 꺼릴게 없다라는 거예요 그래서 대만은 지금 여러 가지로 기회다 비용 충분히 지불할 만하다 비용 많이 내라 그래 그럼 tsmc 반도체 집값 단가 올리면 되지 그래서 호국 신산 그면 예 호국 신선이라고이 tsmc 없어지면 우리는 다시 원시 인류는 원시 시대로 돌아간다고 표현합니다 그 사람들이 근데 그 사람들이 그런 표현을 썼을 때는 미국에서도 어느 정도 동의하고 있는 부분이거든요 그 왜냐면 제가 호국시는 설마 미국은 아니겠지라고 놀란게 예전에 제가 브리지 코이 인터뷰를 할 때 그런 얘기를 했었어요 대만 사람들이 우크라이나 사람들처럼 자신들의 뭐 조국이 조국 자신들의 뭐 뭐 영토 영토 이거를 목숨을 걸고 지킬 준비가 되어 있는가 근데 눈치가 이제 그 부분에 대해서 자기네들은 약간 확신이 안 간다라는 그런 눈치였어요 중국 스파이도 너무 많다고 하고 대만 측에 그래서 정말로 중국이 대만을 무력으로 침공을 했을 때 목숨을 걸 사람들이 얼마나 있는가 그래서 그런 부분이 캐처 마크가 있기는 해요 코비는 국방부 부착 간부가 그랬죠 예 그리고 전략과 그리고 정책을 다뤘던 전술도 다뤘던 사람이니까 그 부분이 굉장히 중요했을 겁니다 의지가 없으면 도와줘도 소용 없다라는 걸 누구보다도 잘 알 거라고 생각합니다 대만은 조금 복잡합니다 얘기가 왜 제가 이런 얘기를 드리냐 코비가 어떤 사람을 만나서 그런 인상을 받았을까 아마 외성인 대륙에서 쫓겨나 국민당과 공산당이 싸웠다가 공산당에 패하고 국민당이 대만으로 넘어오거나 왔던 사람들은 다 지금 무슨 생각하고 냐 고국으로 가야 된다 고향으로 가야 된다 그리고 지금 고향이 잘 나가고 있으니까 저기 땅 써놓고 투자하면 저건 내 평생 먹걸리 우리 집안의 평생 먹거리가 된다라고 생각을 합니다 그 사람 입장에서는 전쟁 원치 않겠죠 대만 안에 있는 정보 주는 거 뭐 남의 일같이 생각하겠죠 그렇지만 대만의 원주민이 얘기할 수 있는 내성인 특히 민진당 같은 독립을 지지하는 세력을 정치적으로 지지하는 사람들의 입장에서 보게 되면 달리 떠날 곳이 없습니다 내가 중국어를 써서 중국 사람처럼 보이긴 하지만 나는 중국 당에 아무런 연고도 인연도 없어 그런 사람은이 대만 섬을 지켜야 되는 겁니다 그런 시각에서 보면은 지원할 만하죠 누굴 만나야 따라 좀 달라진다네 그렇습니다 근데 대부분 타이베 있는 사람들은 국민당 출신이 만나서 많아서 코비는 아마 그런 사람들을 접촉하지 않았을까 저는 그렇게 생각합니다 만약에 까오숑이나 타이난을 가게 되면은 아마 좀 생각이 다를 겁니다 물론 전쟁에 나면은 대만 승산은 없죠 그렇지만 미국의 입장에서는 그 사람들이 의지가 있든 의지가 없든 전략적인 측면에서라도 대만 버리지 못한다 미국은 더군다나 더 특별한 거는 트럼프는 자기 임기 때 현지 관료들을 보냈습니다 어 미국 관료들이 현직에 있는 사람들이 간 사람은 거의 없어요 거의 다 졸업 여행 느낌으로 가거든요 그래서 뭐 하원 의장도 그렇게 졸업 여행 삼아서 갔다 오고 이제 기억을 제가 하는게 그때 당시 의 그 아메리 인스티인 타이완이 든가 그거 새로 개설을 하면서 훨씬 더 확장을 하고 보내는 사람들도 좀 격상시켜서 보냈던 기억이나요 그래서 그때 당시에도 아 뭔가 이제 메시지를 중국에 던지는 그나라는 생각을 했던 기억이 나거든요 그리고 거기는 요새입니다 그예 새로 만들었는데 아주 요새처럼 산 뒤에 바싹 숨어서 예 근데 그런 건 있거든요 바이덴 대통령은 대만을 이제 지킨다라는 식의 발언을 직접적으로 했어요 근데 트럼프 대통령은 우리가 꼭 그래야 되나라는 얘기를 했었거든요 그 대만 사람들 입장에서는 좀 불안할 수도 있겠다라는 생각이 들긴 해요음 저는 좀 달리 봅니다 트럼프 같은 사람은 확언을 하지 않을 거예요 항상 탄력적으로 움직일 수 있게 나는 이렇게도 저렇게도 생각한다는 거죠 그런 메시지를 줄 겁니다 바이든이 뭐 대만을 지킬 거야 어 중국은 사기꾼이야 시진핑은 뭐 사기꾼 사기 살인자야 뭐 이런 표현들 들으면은 기분 좋죠 근데 뒤에 액션 없으면 그거 말짱 헛 겁니다 트럼프가 지금까지 보여온 행태를 보게 되면은 뭔가 보여 줘 왔다라는 거는 하나 희망이라고 봅니다 다만 그 희망을 아무도 예측할 수 없고 예견할 수 없다라는게 그게 지금 문제죠 그것만 우리 눈에 보이면 안심하고 다리 뻗고 잘 수 있을 텐데 그 사람이 오늘은이 얘기했다가 내일은 저 얘기했다 하는 사람이거든요 앞서 말씀드렸던 전략적인 측면에서 술을 굉장히 잘 쓰고 있다음 내가 가 뭘 명확하게 하는 거는 거꾸로 나의 행동 반경을 줄여 들게 만드는 효과가 있으니까 모호하게 하면서 행동으로 보여 주는게 훨씬 임팩이 크지 않을까 대만 문제가 바로 그렇습니다 자 그럼 한번 보실까요 바이든 정부 때는요 트럼프 1기 때 대만이 무기 구매를 신청을 했어요 원래는 바이든 때 만들어서 갖다 줘야 돼요 대만에 불과 며칠 전에 줬어요 하이 마스라 거 맞아 예 순위에서 계속 밀 밀려나는 거예요 그러면서도 해협 양 는 우크라이나 이스라엘 못지 않게 전쟁이 일어날 가능성이 높은 지역이라고 얘기 아 그럼 보호해 줘야죠 액션은 없습니다 그래서 제가 보는 바이든 오바마 행정부에 있어서 그런지 몰라도 너무 좀 부들부들하다 느낌 많이 봤습니다 그래서 말은 그렇 했지만 실제 상황이 닥치면 그거는 어떻게 변할지 모른다 그렇죠 바이든은 미국인한테 엄청난 충격을 줬을 거예요 박사님이 잘 아시겠지만 아프간에서 떠나는 모습을 보게 되면은 이게 과연 미국이 맞나 라는 생각이 들 겁니다 트럼프는 절대 그 모습 보여 주고 싶지 않을 겁니다 그 사람은 귀에 총이 빗 나가면서도 주먹 치고 파이트 파이트 파이트를 세 번 외쳤던 사람이거든요 그러니까 강한 미국을 어떻게 했었던지 보이려면 말보다는 행동이 먼저라는 거를 아마 판단할 겁니다 그리고 요번 내각도 그런 사람 위주로 구성이 될 겁니다 그래서 학력 보지 않고 충성심은 본다라는 거 아니겠습니까 예 마초기질 있는 사람들만 나오죠 그래서 이미 비서실장 같은 경우에는 별 명도 너무 흥미롭지 않습니까 어음 공주 아 어음 공주 예 맞아요 어 근데 되게 재밌었던 게요 그분이 트럼프 대통령이 이제 당선 그 스피치를 하면서 나와서 얘기하라 그러는데 절대 안 하더라고요 그니까 본인이 어떤 위치에 있어 된다는 거 완벽하게 이해를 하고 있는 사람 보면 안 됩니다 제이디 베스도 그랬거든요 그래서 아이 사람들이 주변에서 트럼프의 어떤 성향이라는 걸 완벽하게 파악을 하고 있구나라는 생각이 들었어요 마지막으로 브릭스 얘기를 좀죠 요 상당히 야심차게 시작을 해서 이제 끌고 가려고 하는 거 같은데 여기 이제 들어가는 국가들 보면은 과연 저 국가들끼리 이렇게 뭉쳐서 함께 결집을 해서 뭔가 할 수 있을까라는 의심도 좀 들고 그럼에도 불구하고 브릭스 화라지 이런 얘기를 하는 분들이 계시거든요 어떻게 보세요 브릭스 참 야심찬 아이디어로 시작한 거죠 개도국 중에서 가능성 있는 나라들끼리 뭉치자 근데이 나라들은 대게 패권의 국은 아니지만 패권에 도전할 수 있는 정도의 잠재력은 갖고 있는 국가 그래서 뭐 브라질 인도 중국 러시아 이제 사우스 아프리카 요즘 회원들이 계속 늘어나고 있습니다 근데 응집이 되기 위해서는 도덕적인 어떤 수준이 상당히 높아야 된다고 저는 생각합니다 우리가 민주주의를 공유하고 있기 때문에 유럽하울 일본하고 얘기할 수 있고 우리가 미국하고 얘기할 수 있고 그리고 우리의 경제적인 수준도 상당하기 때문에 그것을 또 지탱할 수도 있다라고 보거든요 근데 이들 국가는 기본적으로 경제가 다 엉망입니다 뭐 인도 잠재력 좋다 그러는데 인도 따지고 보면은 좀이 부정 부패 혼란상이 아주 만연한 나라 브라질은 어떤가요 그나라도 별반 차이 없을 겁니다 뭐 러시아 중국은 더 말할 것도 없고요 그럼 그런 나라들이 결집이 잘 될까요 각자 다른 생각을 하고 있다라는 겁니다 근데 누구의 목소리가 더 커지는 걸 서로들 원치 않아요 그래서 그런 나라들은 힘들다 단 필요에 의해서 교류는 할거다 그 간의 교류는 상당히 잘됩니다 하나 예를 들을게요 중국이 공급 과로 넘쳐나는 제고 물량을 인도에서 탑니다 인도 근데 무엇보다도 중국 싫어해요 중국과 경쟁 관계 있거든요 아 보기도 싫어합니다 그러나 싼 걸 어떻해 뭐 이런 겁니다 그리고 기다려 우리도 10년 뒤에는 너네 같이 잘 살 수 있을 거야라는 또 희망을 갖기도 합니다 그래서 제가 말씀드리고자 하는 거는 브릭스는 서로의 필요에 의해서 협력은 하지만 그 협 의 유대가 강하지 않다라고 봅니다 자꾸 회원을 늘린다는 걸 새 불리게 하는듯한 인상을 주지만 그 안에서 뭐를 탁음 결정적인 걸 내놓기는 굉장히 힘들다 조금 전에 말씀드렸던 브릭스 화폐를 내놓는데이 얘기가 모아지지 않잖아요 우리가 수렴이란게 중요하거든요 그 소리가 한 소리가 되겠어요 잘 안 되죠 그리고 그러기 위해서는 굉장히 그걸 끌고 가는 나라 그 리더 국가의 도덕성이 굉장히 중요하다고 봅니다 근데 거기 어느 나라도 믿을 만한 도덕성 가진 나라 없습니다 뭐 중국 보시 말고 러시아도 뭐 만만치 않고요 인도는 약간 이거 뭐 인도 좋아하시는 분들한테 좀 이상하게 들리지만 우리의 생각에서 제 입장에서 보면 인도 약간 차원입니다 이해하기 굉장히 힘듭니다 브라질은 늘 행복합니다 근데 배가 고프네요 예 그런 얘기를 합니다 그러니까 그것도 굉장히 힘든 부분이야 상호간의 절충점을 찾아서 수렴하려은 그 수렴점 있어야 되는데 수렴점 그 긴 세월 동안 아직 제대로 찾은 거 같지 않 자 오늘 이렇게 시작은 미국 대통령 선거 그리고 그걸 바라보 중국의 속내 그리고 대만은 어떤가 이런 걸로 시작을 해서 마지막에 이제 브릭스가 이야기를 해 봤는데요 더할 얘기도 많고 여쭤보고 싶은 것도 많은데 시간이 너무 지나서 여기서 마무리를 해야 될 것 같습니다 오늘 이렇게 함께 해 주셔서 고맙습니다 예 고맙습니다 [음악] 감사합니다 n')]},\n",
       " {'id': 'IZ_hx1mnIz8',\n",
       "  'thumbnails': ['https://i.ytimg.com/vi/IZ_hx1mnIz8/hq720.jpg?sqp=-oaymwEjCOgCEMoBSFryq4qpAxUIARUAAAAAGAElAADIQj0AgKJDeAE=&rs=AOn4CLCDMzbvMPSq9BcMbEdi77JnxI28lA',\n",
       "   'https://i.ytimg.com/vi/IZ_hx1mnIz8/hq720.jpg?sqp=-oaymwEXCNAFEJQDSFryq4qpAwkIARUAAIhCGAE=&rs=AOn4CLCNIoFN18H0h071ro5-X3XpVtiMjw'],\n",
       "  'title': \"미국 대선 내일 본투표‥경합주 '초박빙' 접전 (2024.11.04/930MBC뉴스)\",\n",
       "  'long_desc': None,\n",
       "  'channel': 'MBCNEWS',\n",
       "  'duration': '2:02',\n",
       "  'views': '조회수 13,887회',\n",
       "  'publish_time': '3개월 전',\n",
       "  'url_suffix': '/watch?v=IZ_hx1mnIz8&pp=ygUN66-46rWtIOuMgOyEoA%3D%3D',\n",
       "  'video_url': 'http://youtube.com/watch?v=IZ_hx1mnIz8&pp=ygUN66-46rWtIOuMgOyEoA%3D%3D',\n",
       "  'content': [Document(metadata={'source': 'IZ_hx1mnIz8'}, page_content='미국 대선이 우리 시간으로 내일 저녁부터 시작합니다 두 후보는 마지막 주말도 경합주 유세에 나섰는데 여전히 초박빙 승부가 점쳐지고 있습니다 워싱턴에서 왕종명 특파원이 보도합니다 제 47대 미국 대통령 선거의 본투표는 미국 시간으로는 이틀 뒤 한국 시간으로는 내일 저녁부터 시작합니다 해리스 후보는 마지막 일요일 유지로 경지 미시간의 최대도시 트 있는인 교회를 선택했습니다 리스는 성 구절을 인용해 신은 우를 위한 계획이 있다고 말한 대신 기도만 충분하지 않고 행동해야 한다며 자신에게 표를 달라고 호소했습니다 트럼 후보는 경 베이를 바이든 해리스 정부의 실정이 미국을 실패한 국가로 만들었다며 쇠락한 공업지대 러스트 벨트에 민심을 자극했습니다 부정 선거 가능성도 언급했습니다 특히 지난 두차례 대선에서 트럼프가 승리했던 경합주 아이오에서 5차 범위 내긴 하지만 해리스가 앞선다는 여론조사 결과를 두고 조서를 제기했습니다 사실상 마지막이 될 여론조사 결과도 나왔는데 일곱개 경합주 중 해리스가 네바다 노스 캐롤라이나 위스콘신 조지아 이상네 곳에서 트럼프는 애리조나 한 곳에서 앞섰습니다 모두 5차 범인의 근소한 위였습니다 경합주 중 선거인단이 가장 많은 펜실베이니아 미시간에서 두 후보가 동률로 나와 초박빙 승부의 불확실성을 유지했습니다 워싱턴에서 MBC 뉴스 왕명 입니다')]},\n",
       " {'id': 'pHBFGm-SW2Q',\n",
       "  'thumbnails': ['https://i.ytimg.com/vi/pHBFGm-SW2Q/hq720_2.jpg?sqp=-oaymwE9COgCEMoBSFryq4qpAy8IARUAAAAAGAAlAADIQj0AgKJDeAHwAQH4AbYIgAKAD4oCDAgAEAEYfyATKGUwDw==&rs=AOn4CLA2JQSvh6_EevxqCSk_q_rAWt9jVw',\n",
       "   'https://i.ytimg.com/vi/pHBFGm-SW2Q/hq720_2.jpg?sqp=-oaymwExCNAFEJQDSFryq4qpAyMIARUAAIhCGADwAQH4AbYIgAKAD4oCDAgAEAEYfyATKGUwDw==&rs=AOn4CLC9thQMIYNwyssHnO_L9-wVBczADw'],\n",
       "  'title': '막말 논란 뜨거운 미국 대선',\n",
       "  'long_desc': None,\n",
       "  'channel': 'KBS 세계는지금',\n",
       "  'duration': '0:18',\n",
       "  'views': '조회수 39,385회',\n",
       "  'publish_time': '3개월 전',\n",
       "  'url_suffix': '/shorts/pHBFGm-SW2Q',\n",
       "  'video_url': 'http://youtube.com/shorts/pHBFGm-SW2Q',\n",
       "  'content': [Document(metadata={'source': 'pHBFGm-SW2Q'}, page_content=\"is literally a floating island of garbage in the middle of the ocean right now yeah I think it's called Puerto [Applause] Rico the only garbage I see floating out there is his supporters\")]}]"
      ]
     },
     "execution_count": 6,
     "metadata": {},
     "output_type": "execute_result"
    }
   ],
   "source": [
    "for v in videos:\n",
    "    # url_suffix를 이용하여 video_url을 만듭니다.\n",
    "    v['video_url'] = 'http://youtube.com' + v['url_suffix']\n",
    "    \n",
    "    # YoutubeLoader를 이용하여 비디오를 로드합니다.\n",
    "    loader = YoutubeLoader.from_youtube_url(\n",
    "        v['video_url'],\n",
    "        language=['ko', 'en']\n",
    "    )\n",
    "\n",
    "    v['content'] = loader.load()\n",
    "\n",
    "videos"
   ]
  },
  {
   "cell_type": "code",
   "execution_count": 7,
   "metadata": {},
   "outputs": [
    {
     "name": "stdout",
     "output_type": "stream",
     "text": [
      "총 영상 수: 5\n",
      "60분 이하 영상 수: 5\n"
     ]
    }
   ],
   "source": [
    "print('총 영상 수:', len(videos))\n",
    "# 영상 길이가 60분 이하인 영상만 남깁니다. \n",
    "videos = [v for v in videos if len(v['duration'].split(':')) < 3]\n",
    "print('60분 이하 영상 수:', len(videos))"
   ]
  },
  {
   "cell_type": "code",
   "execution_count": 8,
   "metadata": {},
   "outputs": [
    {
     "data": {
      "text/plain": [
       "AIMessage(content='안녕하세요! 어떻게 도와드릴까요?', additional_kwargs={'refusal': None}, response_metadata={'token_usage': {'completion_tokens': 11, 'prompt_tokens': 10, 'total_tokens': 21, 'completion_tokens_details': {'accepted_prediction_tokens': 0, 'audio_tokens': 0, 'reasoning_tokens': 0, 'rejected_prediction_tokens': 0}, 'prompt_tokens_details': {'audio_tokens': 0, 'cached_tokens': 0}}, 'model_name': 'gpt-4o-mini-2024-07-18', 'system_fingerprint': 'fp_00428b782a', 'finish_reason': 'stop', 'logprobs': None}, id='run-2a20c1db-fa0e-44a9-8f6f-93ecb6f6fbda-0', usage_metadata={'input_tokens': 10, 'output_tokens': 11, 'total_tokens': 21, 'input_token_details': {'audio': 0, 'cache_read': 0}, 'output_token_details': {'audio': 0, 'reasoning': 0}})"
      ]
     },
     "execution_count": 8,
     "metadata": {},
     "output_type": "execute_result"
    }
   ],
   "source": [
    "# 랭체인, openai 임포트\n",
    "from langchain_openai import ChatOpenAI\n",
    "\n",
    "model = ChatOpenAI(model=\"gpt-4o-mini\")\n",
    "model.invoke('안녕?') # 언어 모델이 잘 설정되었는지 테스트"
   ]
  },
  {
   "cell_type": "code",
   "execution_count": 9,
   "metadata": {},
   "outputs": [
    {
     "data": {
      "text/plain": [
       "\"영상에서는 미국의 대통령 선거 방식에 대해 설명하고 있습니다. 미국은 간접 선거 제도를 채택하고 있으며, 각 주마다 선거인단이 할당되어 있습니다. 인구가 많은 캘리포니아주는 60명 이상의 선거인단을 갖고, 반면 인구가 적은 메인주는 단 두 명입니다. 여기서 주의 승자가 모든 선거인단의 표를 차지하는 '승자 독식' 시스템이기 때문에, 한 주에서 이기면 그 주의 모든 선거인단을 가져가는 구조입니다. 이로 인해 전국적으로 투표를 이기더라도 선거인단에서는 패할 수 있는 문제가 발생할 수 있고, 이는 대의 민주주의가 제대로 반영되지 않는다는 비판을 받고 있습니다. 특히 21세기 들어 공화당이 전체 투표에서 승리했음에도 불구하고 세 번의 대통령을 차지한 사례를 언급하며 이러한 문제를 강조하고 있습니다.\""
      ]
     },
     "execution_count": 9,
     "metadata": {},
     "output_type": "execute_result"
    }
   ],
   "source": [
    "from langchain_core.prompts import ChatPromptTemplate\n",
    "from langchain.chains.combine_documents import create_stuff_documents_chain\n",
    "\n",
    "# 동영상 요약 프롬프트 작성\n",
    "prompt = ChatPromptTemplate.from_messages(\n",
    "    [(\"system\", \"다음 영상에 대한 요약을 한국어로 만들어줘 :\\\\n\\\\n{context}\")]\n",
    ")\n",
    "\n",
    "chain = create_stuff_documents_chain(model, prompt)\n",
    "\n",
    "result = chain.invoke({\"context\": videos[0]['content']})\n",
    "result"
   ]
  },
  {
   "cell_type": "code",
   "execution_count": 10,
   "metadata": {},
   "outputs": [
    {
     "name": "stderr",
     "output_type": "stream",
     "text": [
      "100%|██████████| 5/5 [00:15<00:00,  3.12s/it]\n"
     ]
    },
    {
     "data": {
      "text/plain": [
       "[{'id': 'OT80oyGp4hE',\n",
       "  'thumbnails': ['https://i.ytimg.com/vi/OT80oyGp4hE/hq720_2.jpg?sqp=-oaymwE9COgCEMoBSFryq4qpAy8IARUAAAAAGAAlAADIQj0AgKJDeAHwAQH4AbYIgAKAD4oCDAgAEAEYciBLKDcwDw==&rs=AOn4CLDkNUXd9e_KEPNZuUU7UgBkCmikFA',\n",
       "   'https://i.ytimg.com/vi/OT80oyGp4hE/hq720_2.jpg?sqp=-oaymwExCNAFEJQDSFryq4qpAyMIARUAAIhCGADwAQH4AbYIgAKAD4oCDAgAEAEYciBLKDcwDw==&rs=AOn4CLDUiirmCgjVPdeTVcXDksmEaGXHJA'],\n",
       "  'title': '미국 대통령 선거제도 1분 요약',\n",
       "  'long_desc': None,\n",
       "  'channel': '사람사는세상노무현재단 RohMoohyunFoundation',\n",
       "  'duration': '0:58',\n",
       "  'views': '조회수 498,764회',\n",
       "  'publish_time': '3개월 전',\n",
       "  'url_suffix': '/shorts/OT80oyGp4hE',\n",
       "  'video_url': 'http://youtube.com/shorts/OT80oyGp4hE',\n",
       "  'content': [Document(metadata={'source': 'OT80oyGp4hE'}, page_content='그 우리 같은 경우 대통령을 국민이 직접 뽑아서 합산해서 결정되 있잖아요 단 한 표라도 많이 받은 사람이 대통령이 들 되는 건데 미국은 간접 선거 제도예요 사실상 그러니까 주마다 할당돼 있어요 선거인단이 예를 들면 그건 인구에 비례하는데 그 인구가 제일 많은 캘리포니아 같은 경우가 60명이 좀 넘고 그다음 텍사스가 한 55명 되고 제일 작은 메인주 같은 경우 두 명인가 이렇게 대해서 그 할당이 딱 돼 있습니다 그런데 이게 이제 재밌는 거는 주 선거를 해서 이기면 그걸 다 먹습니다 승자독식을라 두 군대 주 빼고 예외적으로 있는 네 델라 군는 나지는 승자독식이 그니까 캘리포니아에서 한라도 이기면 60명을 다 가지는 그렇게 그 독식을 하게 돼 있고 이제 그러다 보니까 이제이 문제가 뭐냐 전국민의 선거는 이겨도 선거인단에 질 수가 있어요 그죠 그니까 그게 지금 미국에서 실제로 공화당이 딱 한 번만 그 전체 투표에서 이겼는데 21세기 들어와서 예 21세기 들어와가지고 대통령을 세 번 가지고 가는 그 이게 문제가 있다는 거죠 국민의 대의가 제대로 반영되지 않는다 이렇게 생각을 하는 겁니다')],\n",
       "  'summary': '이 영상에서는 미국의 대통령 선거 시스템과 그 문제점에 대해 설명하고 있습니다. 한국에서는 대통령을 국민이 직접 투표해 결정하지만, 미국은 간접 선거 제도로, 각 주마다 할당된 선거인단이 있습니다. 예를 들어, 인구가 많은 캘리포니아주는 60명 이상의 선거인단을 가지고 있으며, 승자독식 방식으로 주에서 이긴 후보가 해당 주의 모든 선거인단을 차지합니다. 이로 인해 특정 후보가 전국적인 투표에서 승리하더라도, 선거인단에서 패배할 수 있는 문제가 발생합니다. 이는 공화당이 21세기 들어서 단 한 번만 대통령을 획득한 사례에서도 드러나며, 국민의 대의가 제대로 반영되지 않는다는 지적이 있습니다.'},\n",
       " {'id': 'wHezy_eW7gA',\n",
       "  'thumbnails': ['https://i.ytimg.com/vi/wHezy_eW7gA/hq720.jpg?sqp=-oaymwE9COgCEMoBSFryq4qpAy8IARUAAAAAGAAlAADIQj0AgKJDeAHwAQH4AbYIgAKAD4oCDAgAEAEYYyBPKGUwDw==&rs=AOn4CLCesjmPVnB2uLzCKRSdH6b4Kj3Azw',\n",
       "   'https://i.ytimg.com/vi/wHezy_eW7gA/hq720.jpg?sqp=-oaymwExCNAFEJQDSFryq4qpAyMIARUAAIhCGADwAQH4AbYIgAKAD4oCDAgAEAEYYyBPKGUwDw==&rs=AOn4CLBT6D-MnTV4n9piqcpmEZsdfhZV2w'],\n",
       "  'title': '🇺🇸미국 대선 트럼프 당선되면 미국 비자 전망은? #미국이민 #연율이민법인 #김혜욱변호사 #미국변호사',\n",
       "  'long_desc': None,\n",
       "  'channel': '연율 이민',\n",
       "  'duration': '0:41',\n",
       "  'views': '조회수 343,094회',\n",
       "  'publish_time': '3개월 전',\n",
       "  'url_suffix': '/shorts/wHezy_eW7gA',\n",
       "  'video_url': 'http://youtube.com/shorts/wHezy_eW7gA',\n",
       "  'content': [Document(metadata={'source': 'wHezy_eW7gA'}, page_content='워낙에 트럼프는 연쇄 민이라고 가지고 한 사람이 영주권 따면 그 사람이 시민권 따고 가족들 줄줄이 초청하고 형제 초청하고 이런 연쇄적인 형태를 굉장히 싫어하고 트럼프의 기본적인 골자가 국익에 도움이 되는 사람만 뽑자 약간 이런 주의이기 때문에 변화는 있을 거 같아요 원이라는 niw든지 런 식의 취업 이민 같은 경우에는 큰 차이나 변경은 거의 없을 거로 봅니다 그런데 취업 이민 중에 순이나 삼순위 중에서 도 숙련 전문직은 조금 그래도 낫다고 해도 비숙련 직에 해당되는 취업 이민 카테고리는 조금 타격을 받기는 해요 인터뷰가 좀 안 잡히거나 좀 그렇기는 하죠')],\n",
       "  'summary': '이 영상은 트럼프 정부의 이민 정책 변화에 대한 논의로 보입니다. 트럼프는 연쇄 이민, 즉 한 사람이 영주권을 따면 그 가족도 연속적으로 초청하는 방식을 매우 반대하는 입장입니다. 그는 국익에 도움이 되는 사람만을 선발하고자 하는 기본적인 철학을 가지고 있습니다. 이에 따라 취업 이민 중 일부 카테고리, 특히 숙련 전문직은 큰 변화가 없겠지만, 비숙련 직종에 해당하는 취업 이민 카테고리는 타격을 받을 것으로 예상됩니다. 이는 인터뷰 일정 조정 등의 문제를 포함합니다.'},\n",
       " {'id': 'atarXGyZ7PA',\n",
       "  'thumbnails': ['https://i.ytimg.com/vi/atarXGyZ7PA/hq720.jpg?sqp=-oaymwEjCOgCEMoBSFryq4qpAxUIARUAAAAAGAElAADIQj0AgKJDeAE=&rs=AOn4CLCXyvmwUZIWLAV_E3AzWrVdldwN7g',\n",
       "   'https://i.ytimg.com/vi/atarXGyZ7PA/hq720.jpg?sqp=-oaymwEXCNAFEJQDSFryq4qpAwkIARUAAIhCGAE=&rs=AOn4CLAR8N_RKF1kvl2QEhEUDKKuSPGC3g'],\n",
       "  'title': '[트럼프 2.0 프리뷰] 트럼프의 귀환! 그리고 떨고 있는 중국? | 트럼프, 미국, 중국',\n",
       "  'long_desc': None,\n",
       "  'channel': '김지윤의 지식Play',\n",
       "  'duration': '38:31',\n",
       "  'views': '조회수 1,192,604회',\n",
       "  'publish_time': '3개월 전',\n",
       "  'url_suffix': '/watch?v=atarXGyZ7PA&pp=ygUN66-46rWtIOuMgOyEoA%3D%3D',\n",
       "  'video_url': 'http://youtube.com/watch?v=atarXGyZ7PA&pp=ygUN66-46rWtIOuMgOyEoA%3D%3D',\n",
       "  'content': [Document(metadata={'source': 'atarXGyZ7PA'}, page_content='안녕하세요 김지은입니다 얼마 전 미국 대통령 선거가 끝났죠네 트럼프 전 대통령 이제 현직 대통령으로 다시 돌아오게 됐는데요 아무래도 미국의 대통령이다 보니까 전 세계에서 반응도 있고 또 준비를 하는 모습을 보이고 있습니다 그래서 이번에 약간 시리즈로 저희가 한번 준비를 해봤는데요 그중에서도 첫 번째로 과연 중국은 지금 어떤 생각을 하고 있고 또 어떤 준비를 하고 있는지 호서대학교 전가림 교수님과 함께 이야기를 나눠보겠습니다 안녕하세 네 안녕하세요 교수님 얼마 전 중국 다녀오셨다고네 다녀왔습니다 두 번 다녀왔습니다 제가 사실은 이제 톡으로이 섭외를 하려고 보내 드렸는데 답이 안 오는 거예요 차단하나요 했는데 나중에 오니까 중국을 다녀오시고네 그렇습니다 중국에서는 우리가 사용하고 있는 SNS 같은 거 잘 안 되거든요 예 뭐 네이버 카톡 이런 거 잘 안 됩니다 차단되는 거죠 예 최근에 다녀 오셨으니까 분위기를 좀 잘 알고 저대 알려 주실 수 있을 것 같은데 어 트럼프 대통령 다시 당선이 됐다라는 얘기를 중국에서 듣고 반응이 어떻던가요 그냥 걱정이 수심에 한가득 찬 사람들처럼 걱정이 많은 거 같습니다 뭐 한 간에서는 야 이제 약한 고리 트럼프가 과거 일기 때 했던 동맹국과 우방국에 대한 어떤 태도 같은 것 때문에 오히려 그런 약한 고리를 잘 이용하면음 미국을 공략하는 것도 한 방법이 될 수 있겠다라는 생각이 있었다라고 들 사람들은 생각하지만 그런 생각 별로 없습니다 왜냐면 1기 때 너무 고생을 했거든요 제가 그러면은 중국에 관련돼 가지고선 트럼프 행정부 1기 때 상황을 잠깐 설명을 드릴게요 1기 때 트럼프 행정부는 먼저 법인세 인화를 했습니다 그건 국내적인 문제 그래서네 대게 이제 미국 경제를 좀 일으킬 수 있는 그런 이제 조치를 취한 거죠 그리고 나서 바로 취한 행동이 관세 중국에 대해서 이제 관세를 때리기 시작했는데 그때 아이러니라고 해도 굉장히 희한한 일이 일어납니다 중국이 거 았네요음 관세 20% 그럼 나도 20% 나 30% 너도 30% 경쟁하되 이렇게 진행이 되다 보니까 트럼프가 약간 좀 화가 났을 겁니다 더군다나 중국 정부에서는 인민폐 그러니까 중국 돈의 위안화에 대한 평가 절화를 통해 가지고선 관세가 아무런 효과가 없게 만들었습니다 그러니까 두 가지 효과를 다진 거죠 같이 보복을 하면서 자국내 국민들한테는 인민들는 굉장히 여 봐라 우리 지도자가 잘하고 있지 않냐 그다 우리는 또 하나의 수단이 있다 뭐 공개된 그 환율 정책이 아니니까 환율 인하를 통해 가지고선 관세에 관세를 무용하게 만드는 거죠 그 정책을 쳤습니다 그래서 아이 오히려 효과가 없는 걸로 나타났어요 그래서 당시에 무역도 증가했고 무역에 또 미국의 적자는 더 늘어났고요 그래서 미국이 다시 취한 정책이 협상으로 들어가자 농산물을 사라 관세는 50% 매기겠다고 는 20% 줄었고요 사겠다는 농산물은 다 안 샀습니다 왜냐면 연임이 되지 못해 가지고선 그걸 추진할 수가 없었어요 바이든 정부는 20% 관세를 계속 유지를 해 왔고요 그래서 일단 그렇게 끝나고 요번에 다시 됐는데 그럼 요번은 어떻게 하냐 큰 맥락은 저는 안 바뀔 거라고 생각합니다 왜냐면 관세가 가장 유용하다 중국을 공략하기 특히 지금과 같이 미국 달러화는 절대적인 강세고 전 세계 모든 화폐는 약세를 하고 있는 상황에서는 미국이 배신이라 그러죠 회초리로 후려칠 때는 진짜 피멍이 들 정도로 맞을 수밖에 없는 상황이다 그래서 관세는 놓지 않을 거고 트럼프가 경성 과정에서도 자신을 관세 대통령이라고 지칭을 했습니다 더군다나 군사적으로 그리고 과학 기술적으로 중국을 압박해 가는 강도가 훨씬 더 강할거다 그리고 그러한 4년의 경험이 있기 때문에 아마 중국은 굉장히 고민스러울 겁니다 왜냐면 2018년도에 한때 잠깐 중국과 미국이 관계가 좋았을 때가 있었어요 그래서 시진핑은 너무 기쁜 나머지 자금성으로 트럼프와 트럼프 부인을 초청을 합니다 그때는 관광객도 받지 않았어요 자금성의 방이 모두 몇 개인지 아십니까 많겠죠 많아요 9999개 그래서 하나만 더 하다면 만 만개가 되기 때문에 만세라고 황제의 건강을 얘기할 때 만세 만세 만세하고 삼창을 하는 이유도 바로 9999개 오래오래 장수하라는 뭐 요런 의미를 갖고 있기 때문에 그렇습니다 근데 그 장소를 모두 트럼프한테 내줬어요 그 트럼프는 온갖 호사를 다 누린 겁니다 그리고 미국에 가자마자 바로 무역 보복을 했죠 그래서 제가 봤을 때 중국 사람들이 아 트럼프가 우방국과 동맹국에 대해서 분열을 조장하기 때문에 우리한테는 오히려 국제관계에서 그리고 전략적인 측면에서 더 유리할 것이다 한다한 판단은 과거의 경험에 미루어 본다 그러면은 그건 조금 좀 나이브한 생각 같다라는 생각이고 또 그럴 거 같지도 않다라는게 제 생각입니다 그니까 왜냐면은 의견이 분분했었다 중국은 과연 누구를 더 반길 것이냐 트럼프를 더 반길 것이다라고 하는 사람들이 했던 얘기가 주로 그거였어요 왜냐면은 이제 트럼프 대통령 전에 이제 그걸 보면은 동맹국에 대해서 굉장히 안 좋은 생각을 갖고 있잖아요 그러니까 유럽에서도 그렇고 사실 뭐 우리도 뭐 일본도 그렇고 좀 힘든 시간을 있었는데 아 그렇게 되면 서유럽과 이쪽의 동맹이 흐트러지고 그러면서 일종에 약간 그 틈이 생기 되면은 훨씬 중국을 그쪽을 좋아할 것이고 뭐 최근으로는 뭐 수출이나 수입이나 이런 것도 다각화를 많이 해서 경제적으로 대비를 해 놨다는 얘기들도 하는 사람이 있거든요 근데 교수님 말씀 들어 보면은 그것보다도 일단은 관세 아든 뭐 경제적으로 지금 중국이 힘들다 보니까 굉장히 당혹스럽다 교수님이 정착을 하셨기 때문에 잘 아시겠지만 우리가 행태주의적 있 분석 그러니까 사람의 행위나 심리적인 분석을 추가해서 보게 되면은 중국은 나라를 다스리는데 기본적으로 세 개의 단계로 나라를 다스립니다 나라를 다스리는 그 세 개의 단계는 곧 국제 관계에서도 똑같이 적용이 돼요 첫 번째가 힘을 키워라 그래서 모든 왕조가 힘을 길렀습니다 그걸 새라 그럽니다 세력 할 때 세자를 써요 그리고 두 번째 단계는 그 세력을 바탕으로 전략을 쓰는 건데 그때 그 전략을 술이라 그럽니다 전술 할 때 술자에 그건 전제 조건이 있습니다 상대방이 전혀 알아보지 못하고 예견하지 못해야 된다는 전제가 있습니다 그래서 던졌을 때 그 충격파가 엄청나다라는 그런 특징이 있거든요 마지막엔 칩입니다 그런 나의 룰에 의해서 내 제도로 다스리겠다는 겁니다 그래서 기본적으로는 세 단계를 거치는데 지금과 같은 현대 사회에는 정부의 정책이라는 방향 같은 것들이 모두 공개 투명 이거를 지향하고 있기 때문에 굉장히 새 술 치 세 단계를 꾸려 나가기가 쉽지 않아요 사회주의 국가에서도 상당히 힘든 부분이 있습니다음 예를 들어서 경제정책 같은 경우에는 공표를 안 하는 이유도 그런 이유긴 하지만 다른 거는 우리가 보통 얘기 할 수 있거든요 근데 미국에 한 사람이 그거를 중국 사람보다 더 잘 사용하고 있어요 그게 바로 트럼프 예측부네 조금 전에 말씀드렸다시피 자금성에서 신나게 온갖 향응을 만끽하고 바로 돌아와서 중국을 때린다 그거 상상하기 힘든 겁니다 그리고 어 환율로 안 돼 그러면은 다른 방법을 써야지 우리가 보통 어 연준 같은 경우에 독립성을 인정하거나 중앙은행에 해당되기 때문에 근데 연준 금리 아니 인하하지 않으면은 내가 해 해고 시킨다는 얘기 하잖아요 그 트럼프의 특징입니다 근데 그걸 실천을 해요 그러니까 사람들은 그런 공포감이 있는 거예요 이게 허장성세 럼 말만 떠들면 지나면은 없겠지라고 생각을 하지만 그걸 보여 준단 말이에요 관세전쟁 얘기했지만 관세 정쟁 했어요 그리고 무역 협상하겠다 그랬고 협상 했고 환율을 가지고 얘기했 을 때 또 환율을 했고 다 했습니다 그리고 심지어 중국을 압박하기 위해서 인도 태평양 전략 사실은 1번의 아이디어인데 인태 전략이라 그래가지고 저작권 침해제보 예 그래서 그런 걸 싹 바꿔 놓은 것도 트럼프 그래서 사실 우리가 지난 4년 동안 바이든 정부를 봤을 때 뭐 여러 가지 일을 한 거 같지만 트럼프의 틀 안에서 상당히 많은 일을 했다 트럼프가 상당히 넓고 두꺼운 방석을 깔아줬다고 저는 생각을 합니다 아 그러면 이제 중국은 일단 트럼프의 귀환에 대해서 공포심을 갖고 있다라고 하셨는데요 대만은 어떤가요 대만도 그렇게 편하지 않을 겁니다 첫 번째로는 예측이 불가하다는 건 누구한테나 불안감으로 작용하거나 미국이 좋아질 수도 있다라는 불안감 아하이 사람이 상인이 때문에 그렇지만 지금까지는 좋아진 모습을 보이지 않았기 때문에 그쪽 측면에서는 안도할 수 있습니다 그렇지만 거기에 상응한 조치와 대가를 지불해야 된다라는 거를 청구서로 내밀 고 있습니다 뭐 무기 판매라 아니면은 방위비는 뭐 이런 여러 가지 얘기를 하고 있고 심지어 최근 들어서는 이제 대만의 tsmc 같은 경우는 미국에 투자하는 거 지원금을 줄까 말까의 문제도 있을 수 있고 그래서 그런 문제를 보게 되면은 대만은 마음이 썩 편하지만은 않을 것이다 힘센 형이 있긴 한데 그 형이 예측 불가다 그게 문제입니다 모든 사람이 다 불안한 겁니다 그거를 우리가 1기 때 다 경험했어요 유럽은 유럽 대로 맞아요 중국대로 김정은도 그렇죠 우리도 마찬가지였고 그래서 전 세계가 지금 다 일종의 공포 편안할 수 없는 공포에 있다라고 얘기할 수 그렇군요 일단 뭐 중국 외교부에서는 되게 원론적인 반응을 내놨어요 무역 전쟁이 모두에게 이롭지 않다 뭐 이런 얘기라는 뭐 그래서 우리 뭐 자기네들 준비돼 있다라는 식으로 반응을 내놨는데 교수님 말씀 들어 보면은 별로 그렇지 않은 거 같은데요 어 몇 가지 사례를 들려 드리겠습니다 우리가 전인대 상무 위원회라는 회의가 얼마 전에 끝났거든요 8일 날 끝났습니다 원래이 회는 짝수 달에 거행을 해야 돼요 짝수달 말에 그래서 10월 말에 해야 되는데 굳이 11월 8일 날 끝나는 걸로 했습니다 어 그건 뭐냐 선거 개표되는 상황을 보겠다 근데 미국이 선거가 시차가 있기 때문에 하루에 다 개표를 해서 결과가 알기가 힘든 상황이 예전에 트럼프 행정부 1기 때 있었죠 그러니까 결과를 보기 위해서 최소한 한 3일 4일 정도면 어느 정도 윤곽이 잡히지 않을까라고 계산한 거 같습니다 근데 너무 빨리 나왔잖아요 그래서 8일 날 공포 하기로 했던 각가지 경제 예측들이 다 무효가 됩니다 왜 지금 내놓는 건 취임 때 1월 20일 날 트럼프 또 한 번 봐야 돼 그러면 차라리 그때 터뜨리자서 미는 겁니다 그래서 요번에 재정정책을 발표를 한 걸 보면은 경기 부양 책이라고 할 수 없습니다 과거에 여러 가지 부채를 어떻게 더 지연시키고 연장시키는 가의 문제에 집중돼 있다라는 측면에서 보게 되면은 어 전인대 상무 위원회도 트럼프 의 어떤 선거 결과를 지켜봤다 요새 들어서 중국이 약간 뭐 브라고 얘기를 하죠 매력 공세 뭐 이런 걸 하는 것 같은 느낌적 느낌이 들긴 하거든요 뭐 인도 하고의 국경 분제 문장이라는 그 느닷없이 우리한테 무비자 그 똑 던진 것도 해달라고 한 적도 없는데 던졌지 호주에 또 리창 총리가 또 방문을 하기도 했고 그래서 아 뭔가 이제 트럼프 이기가 들어서기 전에이 국가들 고의 어떤 껄끄러운 관계를 조금 마무리를 하려는 것인가 뭐 이런 생각 또 들긴 했는데 교수님은 어떻게 보셨어요 트럼프가 연임하지 않았다라는 점이 우리한테 굉장히 많은 학습 효과 그리고 근거 자료 그리고 참고 문헌을 제공하고 있다고 저는 봅니다 1기 때 어떤 상황이 벌어졌나 동맹 국가도 동맹 국가 같지 않은 느낌 우방 국가도 우방국 같지 않은 느낌을 트럼프가 가꾸게 줬어요 우리가 그때 기억이 나실지 모르겠습니다 아베가 골프를 치면서 골프 장에서 막 엎어지는 일도 있고 대굴대굴 부르기도 했고요 트럼프의 눈치를 봐야 되는 상황에 이르렀다는 겁니다 그러면 지금 상황에서 보게 되면은 과거의 그러한 경험에서 보게 되면은 유럽은 심리적인 준비를 해야 될 겁니다 이제 관계가 예전 같지 않다 우리도 그 전의 관계를 유지하기 힘들 것이다라고 판단을 할 거고 그러면은 그거는 중국의 입장에서 보면은 미국과 유럽 간의 틈이라도 볼 수 있겠죠 그리고 또 한국과 일본도 마찬가지일 거고요 그러면 그 사회를 비집고 들어오는 거는 어떤 면에서 보면은 중국 외교에 해야 될 일을 하는 거라고 볼 수 있습니다 예 그러니까 중국이 난대없이 어 무비자 협적 일부에서는 무비자를 어 공포를 한 거를 중국의 경제 문제 때문이라고 얘기를 해요 근데 어 작년 한해에 한국에서 중국을 방문한 사람이 17만 명 중국에서 한국을 방문한 사람이 17만 7천명 17만 가지고는 중국 경제 일어나지 않습니다 그건 뭐냐 미리 포석을 둔다 내년에 정도 되게 되면은 윤 정부도 마지막 정부고 그리고이 정부 기간 동안에도 시진 의 방하은 없었다 근데 내년은 또 경주에서 행사가 있기 때문에 참 안 오기 힘든 그런 상황이 연출될 수도 있다라는 겁니다 그거를 위해서 페루에서 있었던 팩이라는 G20 일종의 분위기 잡는 모드가 이제 시작이 됐다라고 봅니다 그리고 또 그러한 거를 어떻게 할 수 있냐 지금 한국에 주지하고 있는 중국 각 언론사의 특파원들이 각 공공 기관을 방문합니다 공공기관의 수장들을 인터뷰를 하고 한중관계를 얘기하고 그럽니다 네 그래서 저는 상당히 분위기 조성을 지금부터 참 열심히 좀 선제적으로 하고 있다라고 봅니다 그런 측면에서 우리가 무비자와 일방적인 발표를 이해를 해야지 뭐 한국인들이 가서 얼마나 돈을 쓰겠습니다 돈 못 씁니다 뭐 한국인들의 어떤 관광 소비를 촉진시키기 위해서 경제적인 측면에서의 고려다 전 그렇게 생각하지 않습니다 굉장히 전략적이다 그래서 사전에 굉장히 여러 군데 포석 마치 바둑을 두는 거와 마찬가지입니다 지금 중국이 하고 있는 작업은 지금 시작 바둑을 막 시작하는 그런 단계의 모습을 보이는 거 같습니다 한국이 좋아서 저는 그렇게 생각하지 않습니다 그렇군요 근데 예전에 이제 트럼프 일기 때요 그때 당시에 이제 자도 기억하기를 특히 이제 유럽 같은 경우가 굉장히 좀 알레르기 반응을 일으켰던 걸로 생각을 하거든요 그러면서 야 다른 패권국으로 우리가 좀 더 가까이 해 보는게 어떠냐 해서 중국에 조금 신호를 보내기도 했고 또 중국도 마찬가지고 그랬데 시간이 지나면서 중국 은 아닌 것 같아라는 얘기를 이제 유럽 측에서 하기 시작을 했거든요 제가 그걸 기억을 하는데 매력 공세를 중국 측에서 한다고 뭐 유럽이라는 또 다른 국가들이 반응을 할 것인가요 부분도 되게 궁금하기는 해요네 박사님 말씀이 맞습니다 그 차음 오펜시브 얘기하는 처음이 매력 아닙니까 근데 그게 매력적으로 다가오지 않았다라는 거죠 매력이 위협 같이 보였고 그리고 공포 같이 보였고 그 너무 좀 세게 했어요 그때네 그리고 부드럽지 못했다는 겁니다 그래서 전랑 외교라는 말 네는 단어도 오 중국과 관련해 가지고 하나도 뭉글뭉글 둥글둥글한 내용이 없 다 죽하고 날카롭고 하는 느낌이 있다라는 거는 중국 외교가 상당히 큰 문제점을 안고 있다 참 오펜시브 거는 어떤 면에서 보면 가장 경제적인 겁니다 비용을 최소화하면서 상대방의 매력을 통해 가지고선 나의 호감도를 증가시키고 장기적으로 그런 호감도가 유지되게 만드는 거거든요 뭐 대표적으로 우리가 얘기하는 한류 같은 거 얘기할 수 있습니다 근데 중국에 그렇게 날카롭고 사납고 하는 외교 정책을 취한다는 거 일단 중국이 반성해야 될 부분이라고 저는 생각합니다 받아들이는 입장을 전혀 고려하지 않았다라는 거죠 두 번째로는 이런 점이 있습니다게 중국 사람들은 무 누구나 다 알 텐데요 군자는 의에 밝고 소인은 이에 밝다고 그랬습니다 그니까 소인들은 돈 얘기를 해요 근데 이게 중국에만 해당되는게 아닙니다 외국도 마찬가지일 겁니다 유럽 사람들이 트럼프에 대해서 별로 안 좋은 인상을 갖고 있다라는 거는 동맹국의 에 대해서 돈을 먼저 언급하고 안보와 생존과 그리고 어떤 협력과 관계에 있어서 돈이 다른 거보다 우선시 했기 때문에 그런 이미지를 받았고 그거를 이제 아이 사람은 군자가 아니라 소인이 하는 시각에서 봤을 거라고 저는 판단을 합니다 물론 이게 유럽의 소인이란 말이 있는지 군자란 말이 있는지 잘 모르겠지만 분명히 그런 이미지는 있을 거라고 저는 생각을 하거든요 근데 이런 과정 속에서 중국한테는 오히려 상당히 어떤 공간이 넓어지는 효과를가 에도 불구하고 중국이 그걸 잘 활용 못했습니다 그럼 몇 가지 사례를 들게 되면 중국이 저가로 물건을 많이 팔았죠 자기의 적가 물건을 팔아서 재고는 털었는데 해당 국가의 중소 상공인들은 망했다라는 거죠 공생을 얘기하면서 인류 운명 공동체라고 얘기하지 않았습니까 시진핑이 운명 공동체인데 한쪽은 죽어야지 내가 산다라고 하는 거는 운명 공동체에 맞지 않습니다 두 번째로는 코로나의 상황 아직도 원인 불명입니다 조사를 들어가겠다 는데 조사 못하게 하죠 그리고 협력을 한다 그래놓고 대로라는 걸 통해 가지고선 자금들을 많이 후진국에 줬어요 근데 후진국이 코로나의 영향으로 자금을 못 갚으 뭐 그러면은 한구 100년 100년만 쓸게 그거 100년 전에 진짜 제국주의 열강들이 하 그러니까 영국 했던지 똑같이 하고 있어 똑같이 하고 있습니다 그러면서도 어 서방을 비난할 땐 제국주의 제국주의는 상도가 없는 거 패도를 하는 국가 이런 식으로 표현 을 하거든요 근데 본인 스스로가 그걸 하고 있다라는 거는 지극히 모순된 거죠 그러면서도 거기에 대해서 정당성을 부여하니까 그걸 보기 싫은 거죠 그래서 요즘 중국이 인기가 없는 거라고 저는 생각을 합니다네 우크라이나 전쟁 이야기를 조금 해 볼게요 중국이랑 직접적인 관련은 아니지만 우크라이나 전쟁 이후에 러시아가 중국에 굉장히 의존을 하게 되는 형태로 바뀌었잖아요 만약에 트럼프 행정부가 들어서서 지금 내건 약속 중에 하나가 내가 대통령이면 24시간 내 끝낸다는 얘기를 했어요 뭐 24시간내는 아닐지라도 도 분명히 끝내려는 의지는 굉장히 단호하기 때문에 내년에는 뭐 청전이 되지 않겠냐라는 얘기들이 나오는데 그렇게 되면은 중국하고 러시아의 관계도 조금 달라질까요 지금은 일단은 러시아가 굉장히 이렇게 기고 들어가는 모습이 있거든요네 중국과 러시아는 물과 기름이 만약에 물과 기름이 어쩌다가 한번 섞였다 그거는 전략적 제유 굉장히 단기간에 서로가 공포스럽게 생기는 생각하는 적이 나타났을 때 그런 협력을 합니다 그때가 바로 트럼프 때였어요음 근데 트럼프가 지나고 난 다음에는 별로 좋지 않습니다 우크라이나 전쟁 좋아질 수밖에 없죠 왜냐면 제재를 받으니까 기름 못 팔고 천연가스 못 팔거든요 근데 중국이 이런 얘기를 합니다 러시아에 대해서 야 유연화로 결제하자 그러면 너 환율 하면서 수수도 안 내니까 좋을 거 아니야 그래서 외화를 결제를 했는데 가만히 보니까 중국의 중앙은행 발 그 발권이 투명하지 않아요 그냥 막 찍어내는 거 같은 거예요 그래서 어 러시아가 중국 돈을 받아서 다시 중국에 갖고 가서 이런 얘기를 합니다 달러로 바꿔 줘 중국이 믿었지 못한 행동을 계속 해 왔다라는 거죠 그래서 두 국가는 엄청난 긴 거리에 국경선을 맞대고 있을뿐만 아니라 우리가 보통 한산에 두 마리의 사자가 호랑이가 있을 수 없다시피 서로의 패권을 경쟁하는 나라기 때문에 굉장히 힘들다 걷다가 생각하는게 다릅니다 한 사람은 과거의 영광을 제언하고 싶어 하는 거고 한 사람은 지금 영광은 없지만 나중에 영광을 찾을 거야라는 생각 전자가 러시아고백 왔습니다 그 세 사람의 공통된 생각은 나만이이 문제를 해결할 수 있어 나만이 강력한 힘을 휘두를 수 있고 내 아이디어가 최고야 자 그래서 여러분들은 희생을 해야 돼 첫 번째 민족주의 두 번째 애국주의 그러다 보니까 참여하게 대립할 수밖에 없습니다 그러면 우리가 지금 러시아와 중국 관계만 얘기를 하니까 그럼 중국과 러시아는 좋아질 있냐 없죠 러시아는 트럼프가 손짓할 때마다 너무나 기분이 좋을 거예요 아마 중국은 트럼프가 손짓할 때마다 저건 뭐지 저 뒤에는 뭐가 있을까 하고 불안불안해 할 겁니다 그런 상황이 연출된다 그러면은 중국과 러시아 관계 지금 상황에서는 좋아질 이유가 없다 여기 북한까지 뛰어 들었잖아요 그죠 그랬다가 만약에 양자를 놓고 둘 다 괴롭힌다 트럼프가 그러면은 또 전략적 제휴하지 필요에 의해서 미국에 대항을 해야 되니까 근데 그럴 가능성은 저는 크지 않다라고 봅니다서 요번에서 북한이 파병을 하면서 사실 뭐 그전부터 북한하고 러시아 하고 이제 서로 간의 사실상의 상호 안보 조약을 맺은 거고 올해 월단 죠네 굉장히 불편한 심기를 갖고 있다 중국이 그것에 대해서 얘기가 나왔었거든요네 그렇습니다 그 중국의 특성 중에 하나가 모든 걸 다 내가 알아야 돼 내 통제 범위 내 있어야 돼 그런 생각을 갖고 있습니다 그게 가장 장 큰 문제입니다 모든 건 내 앞에서 벌어져야 되고 내가 관리할 수 있어야 된다라는 겁니다 근데 지금 북한이 뛰어 나갔어요 그래서 러시아랑 손잡고 같이 사회 좋게 행진을 하든지 뭘 하고 있습니다 중국으로서는 굉장히 힘들죠 두 번째로는 북한을 관리했던 관리 비용이 점점 많이 들고 있다라는 겁니다 예전은 그냥 식량 그리고 석유 조금 주고 평양만 유지하면 되는데 평양을 유지할 수 있는 세력이 또 하나 생겼다라는 거예요 러시아 예 지금 중국 베이징은 모스코바 하고 그 경쟁을 해야 된다는 겁니다 근데 트럼프도 껴 들었어요 왜 같이 햄버거 먹는 친구 사이 김정은이랑 어 우리는 아주 관계가 좋다 그렇죠 두 번이나 만났으니까 그런 걸 보게 되면은 어 중국은 지금 굉장히 복잡한 셈법을 해야 된다 그리고이 과정 속에서 예전에는 내 손하기 위해서 놀던 애가 이제는 다른 아빠 엄마를 찾으면서 돌아다니는 거 굉장히 불만족스럽게 생각할 겁니다 그래서 중국의 입장에서 보게 되면 북한 지금 영 마음에 안 든다고 볼 수 있겠죠 근데 딱히 제재할 방법도 없습니다 왜 제재를 해서 더 상대방의 품으로 가게 되면은 비용은 더 드는 거예요 그 비용은 금전적인 비용이 아닙니다 예를 들어서 북한이 미사일을 많이 쏘게 되면은 미국의 전략 자선이 한한 반도로 오게 되거든요 그럼 레이다가 켜지면서 중국은 노출이 되는 거고 중국은 또 전략 자산이 옴으로 인해 가지고선 거기에 대비해야 되니까 비용이 증가하고 체력 소진이 되겠죠 걷다가 경제적인 측면 금융적인 측면 무역적자 다 압박을 해 갖고 오면은 그걸 상대하기가 굉장히 힘들다 그리고 과거 트럼프 1기 된 코드라는 걸 가지고 뭐 미국 그리고 일본 호주 그리고 인도가 이렇게 북방으로 몰아가는 형태였는데 지금 조금 전에 러시아 구도 안 좋다라는 거는 위에서는 내려오고 밑에서는 치고 올라가고 중국의 샌드위치의 가운데에 낀 격이 됐거든요 그러면은 중국의 입장에서 보게 되면은 참 골차는 거죠 그리고 중국이 계속 얘기하고 있는게 인류의 공동체 운명 공동체 그리고 책임 있는 대구 위대한 중화로 세상은 아름다워질 수 있다 근데 우리가 불량국가 얘기할 때 중국은 빠지지 않고 계속 들어가거든요 그 이미지가 북한으로 더 더해지고 러시아로부터 더 더해진다 그러면은 중국은 굉장히 그런 외교적인 어떤 레토릭을 구사하기 굉장히 힘든 상황이 될 겁니다 특히 유럽에서 그런 이미지를 갖는 것에 대해서 굉장히 저어하는 거 같더라고요 그니까는 그래서 뭐 하려고 하고 우크라이나 전쟁 우리는 모른 척하고 있는데 사실 뭐 아는 사람들 다 알잖아요 중국이 이제 뭐 석유를 팔아주고 뭐 천연가스 팔아주고함으로써 금전적으로 사실상 도와주고 있다라는 거라든지 북한하고 사실 마찬가지고 그래서 그런 이미지를 패 권고로 성장하기 위해서는 좀 없애야 되는데이 부분에서 중국이 매우 난관에 있다 뭐 그렇게 보여지기도 하고요네네 맞습니다 근데 만약에 우크라이나 전쟁이 그럼 끝나면은 북한하고 러시아의 지금 보이는 밀월 관계도 끝날까 밀월 관계는 이제 결산 단계로 가야 될 겁니다 계산을 하는 단계 지금까지는 지금까지는 같이 밥 먹고 했으면은 네가 먹은 밥은 네가 내고 내가 먹은 밥은 내가 먹은 밥은 내가 내야 되는데 계산은 거꾸로 하게 될 겁니다 아마 러시아가 북한의 진빚 러시아는 언젠간 갚아야 된다라고 북한을 생각할 거고 북한은 또 그런 기대감이 굉장히 높을 거라고 생각할 겁니다 그리고 그러한 것을 또 흥정 리로 미국이랑 얘기를 할 겁니다 그래서 아마 미사 대륙간 탄도 미사일의 성공이라는 위성 발사의 성공이라는 아니면은 이런 전략 무기의 성공을 통해서 미국과 북미 간의 어떤 대화 통미 복남이 그러지 않습니까 그거를 아마 재연하고자 하는 그런 목적을 한번 다시 시도할 수도 있겠죠 그렇군요 대만 이얘기를 좀 해 볼게요 라이팅도 총통이 10월 10일 이게 쌍십절이라고 얘기를 하잖아요 이제 굉장히 중요한 날인데 그때 연설을 했단 말이에요 대만 독립 얘기까지 안 했지만 약간 자기네 이제 정체성을 드러내는 발언을 했고 근데 사실은 취입 연설보다 그래도 좀 톤다운 됐다라는 얘기들을 했었어요 뭔가 협력적인 관계에 대한 뉘앙스도 비치고 근데 그럼에도 불구하고 중국은 막 했거든요 그래서 나왔던 얘기가 대만이 무슨 얘기를 해도 중국은 언제든지 칠 준비가 돼 있던 거를 보여 주려고 한다 뭐 이런 얘기들이 있었어요 제가 기억하기로는 1월 달에 박사님이랑 바로요 자리에서 어 취임식과 관련 선거와 관련돼 가지고 그선 그 방송을 진행 네네 한걸 기억하는데요 취임식의 내용을 보게 되면은 어 상당히 정제된 단어들을 많이 썼습니다 그 대신 중국을 언급하지 않았고 양한 관계를 특별하게 언급하지 않았습니다 근데 요번 쌍십절 날 중화민국의 건국일 날에는 중국어를 아는 사람의 입장에서 보게 되면은이 사람 미쳤나 할 정도로 너무나 강력했습니다음 중국이 제일 싫어하는 단어가 대만이 국가로서 표현되는 겁니다 지방정부나 중국의 일부분 네네가가 관계라고기를 합니다 그리고 너는 1949년도에 건립된 나라고 나는 그 전에 있었던 나라다 난 100년이 넘은 역사를 갖고 있고 넌 이제 75년 됐다라고 얘기를 합니다 자꾸 쌍십절 발언 속에서 구별을 해 갑니다 그게 바로 이제 조금 전에 말씀하신 양국이 그든 중국으로 보게 되면은 이거는 단어만 사용하지 않았지 완전히 독립이라는 단어하나 그래서 듣는 사람 입장에서 보면 모든 대륙에 살고 있는 중국인들은 쟤네들 독립하려고 그러네라는 거를 완전히 확인할 수 있었던 거고 대만에 있는 사람들의 시각에서 보면은 참 단어 사용 잘하네 독립이란 말 빼고 선도 저렇게 표현할 수 있구나라고 생각했을 겁니다 그러나 그걸 영어로 풀게 되면은 어 톤다운 됐네 왜 예 대만을 국가로 표현하지 않고 독립이란 단어도 쓰지 않고 하니까 그런데 사실상 10절 발언은 굉장히 센 겁니다 그래서 그 발언이 있자마자 대만을 둘러싸고 여덟 개 구역에서 대만을 포위한 상태에서 군사 훈련을 했어요 물론 군사 훈련을 하루도 못 갔지만 중국어를 모르는 사람과 아는 사람의 차이인 거지 그래서 굉장히 그거는 심한 용어였다 저는 봅니다 그래서 어 실무적인 대만 독립 분자라고 스스로를 지칭한 라이칭더 대만 종 총통은 자기 본연의 어떤 역할을 보여줬다 여태 까지 우리가 알고 있는 중국으로부터 유협 속에서 우리의 몸보신을 위해서 상당히 절제된 단어를 사용하는 것을 미덕이라고 생각해 왔고 그것이 우리의 신변을 안전하는 단보라멘 라는 표현을 쓰고요 두 번째로는 가라앉지 않는 항공모함이 그 메가더 장군의 말을 지금도 전략적 지정학적으로 그걸 강조하고 있고 트럼프가 돈 얘기를 많이 하는데 차라리 돈 얘기하는게 좋다라는게 대만 입장입니다 얼마면돼 그렇죠 캐시 카은 충분히 있으니까 지금은 문제는 뭐냐하면 나를 버리는게 겁나는 거지 내 돈이 좋아서라고 나한테 관심을 갖는 거는 전혀 뭐 꺼릴게 없다라는 거예요 그래서 대만은 지금 여러 가지로 기회다 비용 충분히 지불할 만하다 비용 많이 내라 그래 그럼 tsmc 반도체 집값 단가 올리면 되지 그래서 호국 신산 그면 예 호국 신선이라고이 tsmc 없어지면 우리는 다시 원시 인류는 원시 시대로 돌아간다고 표현합니다 그 사람들이 근데 그 사람들이 그런 표현을 썼을 때는 미국에서도 어느 정도 동의하고 있는 부분이거든요 그 왜냐면 제가 호국시는 설마 미국은 아니겠지라고 놀란게 예전에 제가 브리지 코이 인터뷰를 할 때 그런 얘기를 했었어요 대만 사람들이 우크라이나 사람들처럼 자신들의 뭐 조국이 조국 자신들의 뭐 뭐 영토 영토 이거를 목숨을 걸고 지킬 준비가 되어 있는가 근데 눈치가 이제 그 부분에 대해서 자기네들은 약간 확신이 안 간다라는 그런 눈치였어요 중국 스파이도 너무 많다고 하고 대만 측에 그래서 정말로 중국이 대만을 무력으로 침공을 했을 때 목숨을 걸 사람들이 얼마나 있는가 그래서 그런 부분이 캐처 마크가 있기는 해요 코비는 국방부 부착 간부가 그랬죠 예 그리고 전략과 그리고 정책을 다뤘던 전술도 다뤘던 사람이니까 그 부분이 굉장히 중요했을 겁니다 의지가 없으면 도와줘도 소용 없다라는 걸 누구보다도 잘 알 거라고 생각합니다 대만은 조금 복잡합니다 얘기가 왜 제가 이런 얘기를 드리냐 코비가 어떤 사람을 만나서 그런 인상을 받았을까 아마 외성인 대륙에서 쫓겨나 국민당과 공산당이 싸웠다가 공산당에 패하고 국민당이 대만으로 넘어오거나 왔던 사람들은 다 지금 무슨 생각하고 냐 고국으로 가야 된다 고향으로 가야 된다 그리고 지금 고향이 잘 나가고 있으니까 저기 땅 써놓고 투자하면 저건 내 평생 먹걸리 우리 집안의 평생 먹거리가 된다라고 생각을 합니다 그 사람 입장에서는 전쟁 원치 않겠죠 대만 안에 있는 정보 주는 거 뭐 남의 일같이 생각하겠죠 그렇지만 대만의 원주민이 얘기할 수 있는 내성인 특히 민진당 같은 독립을 지지하는 세력을 정치적으로 지지하는 사람들의 입장에서 보게 되면 달리 떠날 곳이 없습니다 내가 중국어를 써서 중국 사람처럼 보이긴 하지만 나는 중국 당에 아무런 연고도 인연도 없어 그런 사람은이 대만 섬을 지켜야 되는 겁니다 그런 시각에서 보면은 지원할 만하죠 누굴 만나야 따라 좀 달라진다네 그렇습니다 근데 대부분 타이베 있는 사람들은 국민당 출신이 만나서 많아서 코비는 아마 그런 사람들을 접촉하지 않았을까 저는 그렇게 생각합니다 만약에 까오숑이나 타이난을 가게 되면은 아마 좀 생각이 다를 겁니다 물론 전쟁에 나면은 대만 승산은 없죠 그렇지만 미국의 입장에서는 그 사람들이 의지가 있든 의지가 없든 전략적인 측면에서라도 대만 버리지 못한다 미국은 더군다나 더 특별한 거는 트럼프는 자기 임기 때 현지 관료들을 보냈습니다 어 미국 관료들이 현직에 있는 사람들이 간 사람은 거의 없어요 거의 다 졸업 여행 느낌으로 가거든요 그래서 뭐 하원 의장도 그렇게 졸업 여행 삼아서 갔다 오고 이제 기억을 제가 하는게 그때 당시 의 그 아메리 인스티인 타이완이 든가 그거 새로 개설을 하면서 훨씬 더 확장을 하고 보내는 사람들도 좀 격상시켜서 보냈던 기억이나요 그래서 그때 당시에도 아 뭔가 이제 메시지를 중국에 던지는 그나라는 생각을 했던 기억이 나거든요 그리고 거기는 요새입니다 그예 새로 만들었는데 아주 요새처럼 산 뒤에 바싹 숨어서 예 근데 그런 건 있거든요 바이덴 대통령은 대만을 이제 지킨다라는 식의 발언을 직접적으로 했어요 근데 트럼프 대통령은 우리가 꼭 그래야 되나라는 얘기를 했었거든요 그 대만 사람들 입장에서는 좀 불안할 수도 있겠다라는 생각이 들긴 해요음 저는 좀 달리 봅니다 트럼프 같은 사람은 확언을 하지 않을 거예요 항상 탄력적으로 움직일 수 있게 나는 이렇게도 저렇게도 생각한다는 거죠 그런 메시지를 줄 겁니다 바이든이 뭐 대만을 지킬 거야 어 중국은 사기꾼이야 시진핑은 뭐 사기꾼 사기 살인자야 뭐 이런 표현들 들으면은 기분 좋죠 근데 뒤에 액션 없으면 그거 말짱 헛 겁니다 트럼프가 지금까지 보여온 행태를 보게 되면은 뭔가 보여 줘 왔다라는 거는 하나 희망이라고 봅니다 다만 그 희망을 아무도 예측할 수 없고 예견할 수 없다라는게 그게 지금 문제죠 그것만 우리 눈에 보이면 안심하고 다리 뻗고 잘 수 있을 텐데 그 사람이 오늘은이 얘기했다가 내일은 저 얘기했다 하는 사람이거든요 앞서 말씀드렸던 전략적인 측면에서 술을 굉장히 잘 쓰고 있다음 내가 가 뭘 명확하게 하는 거는 거꾸로 나의 행동 반경을 줄여 들게 만드는 효과가 있으니까 모호하게 하면서 행동으로 보여 주는게 훨씬 임팩이 크지 않을까 대만 문제가 바로 그렇습니다 자 그럼 한번 보실까요 바이든 정부 때는요 트럼프 1기 때 대만이 무기 구매를 신청을 했어요 원래는 바이든 때 만들어서 갖다 줘야 돼요 대만에 불과 며칠 전에 줬어요 하이 마스라 거 맞아 예 순위에서 계속 밀 밀려나는 거예요 그러면서도 해협 양 는 우크라이나 이스라엘 못지 않게 전쟁이 일어날 가능성이 높은 지역이라고 얘기 아 그럼 보호해 줘야죠 액션은 없습니다 그래서 제가 보는 바이든 오바마 행정부에 있어서 그런지 몰라도 너무 좀 부들부들하다 느낌 많이 봤습니다 그래서 말은 그렇 했지만 실제 상황이 닥치면 그거는 어떻게 변할지 모른다 그렇죠 바이든은 미국인한테 엄청난 충격을 줬을 거예요 박사님이 잘 아시겠지만 아프간에서 떠나는 모습을 보게 되면은 이게 과연 미국이 맞나 라는 생각이 들 겁니다 트럼프는 절대 그 모습 보여 주고 싶지 않을 겁니다 그 사람은 귀에 총이 빗 나가면서도 주먹 치고 파이트 파이트 파이트를 세 번 외쳤던 사람이거든요 그러니까 강한 미국을 어떻게 했었던지 보이려면 말보다는 행동이 먼저라는 거를 아마 판단할 겁니다 그리고 요번 내각도 그런 사람 위주로 구성이 될 겁니다 그래서 학력 보지 않고 충성심은 본다라는 거 아니겠습니까 예 마초기질 있는 사람들만 나오죠 그래서 이미 비서실장 같은 경우에는 별 명도 너무 흥미롭지 않습니까 어음 공주 아 어음 공주 예 맞아요 어 근데 되게 재밌었던 게요 그분이 트럼프 대통령이 이제 당선 그 스피치를 하면서 나와서 얘기하라 그러는데 절대 안 하더라고요 그니까 본인이 어떤 위치에 있어 된다는 거 완벽하게 이해를 하고 있는 사람 보면 안 됩니다 제이디 베스도 그랬거든요 그래서 아이 사람들이 주변에서 트럼프의 어떤 성향이라는 걸 완벽하게 파악을 하고 있구나라는 생각이 들었어요 마지막으로 브릭스 얘기를 좀죠 요 상당히 야심차게 시작을 해서 이제 끌고 가려고 하는 거 같은데 여기 이제 들어가는 국가들 보면은 과연 저 국가들끼리 이렇게 뭉쳐서 함께 결집을 해서 뭔가 할 수 있을까라는 의심도 좀 들고 그럼에도 불구하고 브릭스 화라지 이런 얘기를 하는 분들이 계시거든요 어떻게 보세요 브릭스 참 야심찬 아이디어로 시작한 거죠 개도국 중에서 가능성 있는 나라들끼리 뭉치자 근데이 나라들은 대게 패권의 국은 아니지만 패권에 도전할 수 있는 정도의 잠재력은 갖고 있는 국가 그래서 뭐 브라질 인도 중국 러시아 이제 사우스 아프리카 요즘 회원들이 계속 늘어나고 있습니다 근데 응집이 되기 위해서는 도덕적인 어떤 수준이 상당히 높아야 된다고 저는 생각합니다 우리가 민주주의를 공유하고 있기 때문에 유럽하울 일본하고 얘기할 수 있고 우리가 미국하고 얘기할 수 있고 그리고 우리의 경제적인 수준도 상당하기 때문에 그것을 또 지탱할 수도 있다라고 보거든요 근데 이들 국가는 기본적으로 경제가 다 엉망입니다 뭐 인도 잠재력 좋다 그러는데 인도 따지고 보면은 좀이 부정 부패 혼란상이 아주 만연한 나라 브라질은 어떤가요 그나라도 별반 차이 없을 겁니다 뭐 러시아 중국은 더 말할 것도 없고요 그럼 그런 나라들이 결집이 잘 될까요 각자 다른 생각을 하고 있다라는 겁니다 근데 누구의 목소리가 더 커지는 걸 서로들 원치 않아요 그래서 그런 나라들은 힘들다 단 필요에 의해서 교류는 할거다 그 간의 교류는 상당히 잘됩니다 하나 예를 들을게요 중국이 공급 과로 넘쳐나는 제고 물량을 인도에서 탑니다 인도 근데 무엇보다도 중국 싫어해요 중국과 경쟁 관계 있거든요 아 보기도 싫어합니다 그러나 싼 걸 어떻해 뭐 이런 겁니다 그리고 기다려 우리도 10년 뒤에는 너네 같이 잘 살 수 있을 거야라는 또 희망을 갖기도 합니다 그래서 제가 말씀드리고자 하는 거는 브릭스는 서로의 필요에 의해서 협력은 하지만 그 협 의 유대가 강하지 않다라고 봅니다 자꾸 회원을 늘린다는 걸 새 불리게 하는듯한 인상을 주지만 그 안에서 뭐를 탁음 결정적인 걸 내놓기는 굉장히 힘들다 조금 전에 말씀드렸던 브릭스 화폐를 내놓는데이 얘기가 모아지지 않잖아요 우리가 수렴이란게 중요하거든요 그 소리가 한 소리가 되겠어요 잘 안 되죠 그리고 그러기 위해서는 굉장히 그걸 끌고 가는 나라 그 리더 국가의 도덕성이 굉장히 중요하다고 봅니다 근데 거기 어느 나라도 믿을 만한 도덕성 가진 나라 없습니다 뭐 중국 보시 말고 러시아도 뭐 만만치 않고요 인도는 약간 이거 뭐 인도 좋아하시는 분들한테 좀 이상하게 들리지만 우리의 생각에서 제 입장에서 보면 인도 약간 차원입니다 이해하기 굉장히 힘듭니다 브라질은 늘 행복합니다 근데 배가 고프네요 예 그런 얘기를 합니다 그러니까 그것도 굉장히 힘든 부분이야 상호간의 절충점을 찾아서 수렴하려은 그 수렴점 있어야 되는데 수렴점 그 긴 세월 동안 아직 제대로 찾은 거 같지 않 자 오늘 이렇게 시작은 미국 대통령 선거 그리고 그걸 바라보 중국의 속내 그리고 대만은 어떤가 이런 걸로 시작을 해서 마지막에 이제 브릭스가 이야기를 해 봤는데요 더할 얘기도 많고 여쭤보고 싶은 것도 많은데 시간이 너무 지나서 여기서 마무리를 해야 될 것 같습니다 오늘 이렇게 함께 해 주셔서 고맙습니다 예 고맙습니다 [음악] 감사합니다 n')],\n",
       "  'summary': '이번 영상에서는 김지은이 호서대학교 전가림 교수와 함께 최근 미국 대통령 선거에서 트럼프 전 대통령이 재선에 성공한 이후 중국과 대만의 반응에 대해 이야기합니다. 교수님은 중국에서의 분위기와 트럼프 행정부 1기 동안의 무역 전쟁 경험을 설명하며, 중국의 우려가 크다고 전합니다. 트럼프의 관세 정책이 중국 경제에 미친 영향과 중국의 국제 관계 전략에 대한 교수님의 분석이 이어집니다.\\n\\n특히, 교수님은 중국이 트럼프의 귀환에 대해 공포를 느끼고 있으며, 대만 문제에서도 불안한 상황이 지속될 것이라고 강조합니다. 대만의 라이칭더 총통이 쌍십절 연설에서 독립적인 정체성을 언급했으나, 중국의 반응으로 인해 대만 역시 긴장을 하고 있다고 제시합니다.\\n\\n마지막으로 브릭스 국가들 간의 협력 가능성에 대해 의구심을 표명하며, 국가들 간의 도덕성과 결속력이 부족하다는 점을 지적합니다. 전체적으로 중국과 대만의 외교적 상황이 복잡하게 얽혀 있음을 알 수 있는 내용이었습니다.'},\n",
       " {'id': 'IZ_hx1mnIz8',\n",
       "  'thumbnails': ['https://i.ytimg.com/vi/IZ_hx1mnIz8/hq720.jpg?sqp=-oaymwEjCOgCEMoBSFryq4qpAxUIARUAAAAAGAElAADIQj0AgKJDeAE=&rs=AOn4CLCDMzbvMPSq9BcMbEdi77JnxI28lA',\n",
       "   'https://i.ytimg.com/vi/IZ_hx1mnIz8/hq720.jpg?sqp=-oaymwEXCNAFEJQDSFryq4qpAwkIARUAAIhCGAE=&rs=AOn4CLCNIoFN18H0h071ro5-X3XpVtiMjw'],\n",
       "  'title': \"미국 대선 내일 본투표‥경합주 '초박빙' 접전 (2024.11.04/930MBC뉴스)\",\n",
       "  'long_desc': None,\n",
       "  'channel': 'MBCNEWS',\n",
       "  'duration': '2:02',\n",
       "  'views': '조회수 13,887회',\n",
       "  'publish_time': '3개월 전',\n",
       "  'url_suffix': '/watch?v=IZ_hx1mnIz8&pp=ygUN66-46rWtIOuMgOyEoA%3D%3D',\n",
       "  'video_url': 'http://youtube.com/watch?v=IZ_hx1mnIz8&pp=ygUN66-46rWtIOuMgOyEoA%3D%3D',\n",
       "  'content': [Document(metadata={'source': 'IZ_hx1mnIz8'}, page_content='미국 대선이 우리 시간으로 내일 저녁부터 시작합니다 두 후보는 마지막 주말도 경합주 유세에 나섰는데 여전히 초박빙 승부가 점쳐지고 있습니다 워싱턴에서 왕종명 특파원이 보도합니다 제 47대 미국 대통령 선거의 본투표는 미국 시간으로는 이틀 뒤 한국 시간으로는 내일 저녁부터 시작합니다 해리스 후보는 마지막 일요일 유지로 경지 미시간의 최대도시 트 있는인 교회를 선택했습니다 리스는 성 구절을 인용해 신은 우를 위한 계획이 있다고 말한 대신 기도만 충분하지 않고 행동해야 한다며 자신에게 표를 달라고 호소했습니다 트럼 후보는 경 베이를 바이든 해리스 정부의 실정이 미국을 실패한 국가로 만들었다며 쇠락한 공업지대 러스트 벨트에 민심을 자극했습니다 부정 선거 가능성도 언급했습니다 특히 지난 두차례 대선에서 트럼프가 승리했던 경합주 아이오에서 5차 범위 내긴 하지만 해리스가 앞선다는 여론조사 결과를 두고 조서를 제기했습니다 사실상 마지막이 될 여론조사 결과도 나왔는데 일곱개 경합주 중 해리스가 네바다 노스 캐롤라이나 위스콘신 조지아 이상네 곳에서 트럼프는 애리조나 한 곳에서 앞섰습니다 모두 5차 범인의 근소한 위였습니다 경합주 중 선거인단이 가장 많은 펜실베이니아 미시간에서 두 후보가 동률로 나와 초박빙 승부의 불확실성을 유지했습니다 워싱턴에서 MBC 뉴스 왕명 입니다')],\n",
       "  'summary': '미국 대선이 내일 저녁(한국 시간) 시작됩니다. 두 후보는 마지막 주말에도 경합주에서 유세를 펼쳤으며 초박빙 승부가 예상되고 있습니다. 해리스 후보는 미시간의 교회에서 신의 계획을 언급하며 자신의 지지를 호소했고, 트럼프 후보는 바이든 해리스 정부의 실정을 비판하며 민심을 자극했습니다. 여론조사에서는 해리스가 네바다, 노스 캐롤라이나, 위스콘신, 조지아에서 우세인 반면, 트럼프는 애리조나에서 앞선 것으로 나타났습니다. 특히 펜실베이니아와 미시간에서는 두 후보가 동률을 이루며 선거 결과에 불확실성을 더하고 있습니다.'},\n",
       " {'id': 'pHBFGm-SW2Q',\n",
       "  'thumbnails': ['https://i.ytimg.com/vi/pHBFGm-SW2Q/hq720_2.jpg?sqp=-oaymwE9COgCEMoBSFryq4qpAy8IARUAAAAAGAAlAADIQj0AgKJDeAHwAQH4AbYIgAKAD4oCDAgAEAEYfyATKGUwDw==&rs=AOn4CLA2JQSvh6_EevxqCSk_q_rAWt9jVw',\n",
       "   'https://i.ytimg.com/vi/pHBFGm-SW2Q/hq720_2.jpg?sqp=-oaymwExCNAFEJQDSFryq4qpAyMIARUAAIhCGADwAQH4AbYIgAKAD4oCDAgAEAEYfyATKGUwDw==&rs=AOn4CLC9thQMIYNwyssHnO_L9-wVBczADw'],\n",
       "  'title': '막말 논란 뜨거운 미국 대선',\n",
       "  'long_desc': None,\n",
       "  'channel': 'KBS 세계는지금',\n",
       "  'duration': '0:18',\n",
       "  'views': '조회수 39,385회',\n",
       "  'publish_time': '3개월 전',\n",
       "  'url_suffix': '/shorts/pHBFGm-SW2Q',\n",
       "  'video_url': 'http://youtube.com/shorts/pHBFGm-SW2Q',\n",
       "  'content': [Document(metadata={'source': 'pHBFGm-SW2Q'}, page_content=\"is literally a floating island of garbage in the middle of the ocean right now yeah I think it's called Puerto [Applause] Rico the only garbage I see floating out there is his supporters\")],\n",
       "  'summary': \"영상에서는 현재 대양 한가운데 떠 있는 쓰레기 섬에 대해 이야기하고 있습니다. 이 쓰레기 섬은 '푸에르토 리코'라고 언급되며, 그 섬의 사람들과 지지자들에 대한 비판적인 시각이 담겨 있습니다. 전반적으로 쓰레기 문제와 이를 지적하는 내용이 포함되어 있습니다.\"}]"
      ]
     },
     "execution_count": 10,
     "metadata": {},
     "output_type": "execute_result"
    }
   ],
   "source": [
    "# 모든 비디오에 대해 요약을 생성\n",
    "from tqdm import tqdm # tqdm은 진행 상황을 보여주는 라이브러리\n",
    "\n",
    "for v in tqdm(videos):\n",
    "    v['summary'] = chain.invoke({\"context\": v['content']})\n",
    "   \n",
    "videos"
   ]
  },
  {
   "cell_type": "code",
   "execution_count": null,
   "metadata": {},
   "outputs": [],
   "source": []
  }
 ],
 "metadata": {
  "kernelspec": {
   "display_name": "venv",
   "language": "python",
   "name": "python3"
  },
  "language_info": {
   "codemirror_mode": {
    "name": "ipython",
    "version": 3
   },
   "file_extension": ".py",
   "mimetype": "text/x-python",
   "name": "python",
   "nbconvert_exporter": "python",
   "pygments_lexer": "ipython3",
   "version": "3.12.9"
  }
 },
 "nbformat": 4,
 "nbformat_minor": 2
}
