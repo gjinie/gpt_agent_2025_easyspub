{
 "cells": [
  {
   "cell_type": "code",
   "execution_count": 1,
   "metadata": {
    "pycharm": {
     "name": "#%%\n"
    }
   },
   "outputs": [
    {
     "data": {
      "text/plain": [
       "AIMessage(content='안녕하세요, 개스톤! 당신의 초대는 정말 감사하지만, 저는 당신과 함께 저녁을 먹는 것에 대해 조금 망설여져요. 저는 더 특별한 인연을 찾고 있답니다. 어떻게 생각하세요?', additional_kwargs={'refusal': None}, response_metadata={'token_usage': {'completion_tokens': 54, 'prompt_tokens': 62, 'total_tokens': 116, 'completion_tokens_details': {'accepted_prediction_tokens': 0, 'audio_tokens': 0, 'reasoning_tokens': 0, 'rejected_prediction_tokens': 0}, 'prompt_tokens_details': {'audio_tokens': 0, 'cached_tokens': 0}}, 'model_name': 'gpt-4o-mini-2024-07-18', 'system_fingerprint': 'fp_44added55e', 'finish_reason': 'stop', 'logprobs': None}, id='run-1c36b7f0-a1c2-41b4-abeb-702fb4512d9c-0', usage_metadata={'input_tokens': 62, 'output_tokens': 54, 'total_tokens': 116, 'input_token_details': {'audio': 0, 'cache_read': 0}, 'output_token_details': {'audio': 0, 'reasoning': 0}})"
      ]
     },
     "execution_count": 1,
     "metadata": {},
     "output_type": "execute_result"
    }
   ],
   "source": [
    "from langchain_openai import ChatOpenAI\n",
    "model = ChatOpenAI(model=\"gpt-4o-mini\")\n",
    "\n",
    "from langchain_core.messages import HumanMessage, SystemMessage\n",
    "\n",
    "messages = [\n",
    "    SystemMessage(content=\"너는 미녀와 야수에 나오는 미녀야. 그 캐릭터에 맞게 사용자와 대화하라.\"),\n",
    "    HumanMessage(content=\"안녕? 저는 개스톤입니다. 오늘 시간 괜찮으시면 저녁 같이 먹을까요?\"),\n",
    "]\n",
    "\n",
    "model.invoke(messages)\n",
    "#출력 결과를 보면  AIMessage라는 객체 안에 여러 정보가 포함되어 있음.\n",
    "#만약 텍스트 결과만 필요하다면 StrOutputParser사용하면 됨\n",
    "#: 랭체인에서 제공하는 다양한 출력 파서중 하나임.\n",
    "#출력파서 ? 언어 모델이 반환하는 결가에서 원하는 형식의 데이터를 추출하는 도구.\n",
    "# 텍스트만 추출하여 변환하며, 다른 파서들은 json, 숫자 형식 등을 처리할 수 있음"
   ]
  },
  {
   "cell_type": "code",
   "execution_count": 2,
   "metadata": {
    "pycharm": {
     "name": "#%%\n"
    }
   },
   "outputs": [
    {
     "data": {
      "text/plain": [
       "'안녕하세요, 개스톤! 당신의 초대는 감사하지만, 저는 다른 일들이 있어서 저녁 약속은 어렵겠어요. 하지만, 좋은 친구와 함께 시간을 보내는 것도 즐겁지 않을까요? 당신과 함께하는 저녁은 즐거울 것 같네요. 어떤 계획이 있나요?'"
      ]
     },
     "execution_count": 2,
     "metadata": {},
     "output_type": "execute_result"
    }
   ],
   "source": [
    "from langchain_core.output_parsers import StrOutputParser\n",
    "\n",
    "parser = StrOutputParser()\n",
    "\n",
    "result = model.invoke(messages)\n",
    "parser.invoke(result)"
   ]
  },
  {
   "cell_type": "code",
   "execution_count": 3,
   "metadata": {
    "pycharm": {
     "name": "#%%\n"
    }
   },
   "outputs": [
    {
     "data": {
      "text/plain": [
       "'안녕하세요, 개스톤. 제안해 주셔서 고마워요. 하지만 저는 다른 사람과의 소중한 유대감과 진정한 사랑을 찾고 싶어요. 혹시 친구로서 함께 이야기를 나누는 것은 어떨까요?'"
      ]
     },
     "execution_count": 3,
     "metadata": {},
     "output_type": "execute_result"
    }
   ],
   "source": [
    "#위의 2단계를 랭체인에서는 ICEL의 체인을 이용해 연산자를 활용해 한 줄로 간단히 연결가능!\n",
    "chain = model | parser\n",
    "chain.invoke(messages)"
   ]
  },
  {
   "cell_type": "code",
   "execution_count": 4,
   "metadata": {
    "pycharm": {
     "name": "#%%\n"
    }
   },
   "outputs": [
    {
     "name": "stdout",
     "output_type": "stream",
     "text": [
      "messages=[SystemMessage(content='너는 미녀와 야수에 나오는 미녀 역할이다. 그 캐릭터에 맞게 사용자와 대화하라.', additional_kwargs={}, response_metadata={}), HumanMessage(content='안녕? 저는 야수입니다. 오늘 시간 괜찮으시면 저녁 같이 할까요?', additional_kwargs={}, response_metadata={})]\n"
     ]
    }
   ],
   "source": [
    "#프폼프트 템플릿 이용하기\n",
    "#Chatprompttemplete를 활용해 대화 중 변수로 만들고 싶은 부분을 대괄호로 감싸고 변수명 지정\n",
    "\n",
    "\n",
    "from langchain_core.prompts import ChatPromptTemplate\n",
    "\n",
    "system_template = \"너는 {story}에 나오는 {character_a} 역할이다. 그 캐릭터에 맞게 사용자와 대화하라.\"\n",
    "human_template = \"안녕? 저는 {character_b}입니다. 오늘 시간 괜찮으시면 {activity} 같이 할까요?\"\n",
    "\n",
    "prompt_template = ChatPromptTemplate([ #문자열로 작성\n",
    "    (\"system\", system_template),\n",
    "    (\"user\", human_template),\n",
    "])\n",
    "\n",
    "result = prompt_template.invoke({ #변수로 사용 #딕셔너리 항목 채워넣기\n",
    "    \"story\": \"미녀와 야수\",\n",
    "    \"character_a\": \"미녀\",\n",
    "    \"character_b\": \"야수\",\n",
    "    \"activity\": \"저녁\"\n",
    "})\n",
    "\n",
    "print(result)\n",
    "#출력 결과. 변수로 설정한 부분들이 모두 원하는 값으로 채워진 프롬프트가 생성됨"
   ]
  },
  {
   "cell_type": "code",
   "execution_count": 5,
   "metadata": {
    "pycharm": {
     "name": "#%%\n"
    }
   },
   "outputs": [
    {
     "data": {
      "text/plain": [
       "'안녕하세요! 물론, 같이 저녁을 먹는 것은 좋죠. 당신과 함께하는 저녁 시간이 기대돼요. 무엇을 먹고 싶으신가요?'"
      ]
     },
     "execution_count": 5,
     "metadata": {},
     "output_type": "execute_result"
    }
   ],
   "source": [
    "#랭체인의 연산자 활용해 체인 구성\n",
    "chain = prompt_template | model | parser\n",
    "#딕셔리로 채운 내용은 프롬프트 템플릿을 거쳐 모델과 파서를 통해 최종 결과로 출력됨\n",
    "chain.invoke({\n",
    "    \"story\": \"미녀와 야수\",\n",
    "    \"character_a\": \"미녀\",\n",
    "    \"character_b\": \"야수\",\n",
    "    \"activity\": \"저녁\"\n",
    "})"
   ]
  },
  {
   "cell_type": "code",
   "execution_count": 6,
   "metadata": {
    "pycharm": {
     "name": "#%%\n"
    }
   },
   "outputs": [
    {
     "data": {
      "text/plain": [
       "'안녕하세요, 개스톤! 당신의 초대는 정말 감사하지만, 저는 다른 생각이 있어요. 저에게는 사려 깊고 특별한 사람이 필요해요. 그리고 당신이 제가 찾는 그런 사람인지 잘 모르겠어요. 대신 더 나은 사람에게 마음을 열어보는 건 어떨까요?'"
      ]
     },
     "execution_count": 6,
     "metadata": {},
     "output_type": "execute_result"
    }
   ],
   "source": [
    "chain = prompt_template | model | parser\n",
    "\n",
    "chain.invoke({\n",
    "    \"story\": \"미녀와 야수\",\n",
    "    \"character_a\": \"미녀\",\n",
    "    \"character_b\": \"개스톤\",\n",
    "    \"activity\": \"저녁\"\n",
    "})"
   ]
  },
  {
   "cell_type": "code",
   "execution_count": null,
   "metadata": {
    "pycharm": {
     "name": "#%%\n"
    }
   },
   "outputs": [
    {
     "data": {
      "text/plain": [
       "Adlib(answer='안녕하세요, 개스톤! 저는 당신과 저녁을 함께 하는 것이 좋지만, 제 마음 속에는 누군가가 있어요. 다만, 함께 이야기를 나누는 것은 언제나 환영이에요!', main_emotion='냉소', main_emotion_intensity=0.4)"
      ]
     },
     "execution_count": 10,
     "metadata": {},
     "output_type": "execute_result"
    }
   ],
   "source": [
    "from typing import Literal\n",
    "from pydantic import BaseModel, Field\n",
    "\n",
    "class Adlib(BaseModel):\n",
    "    \"\"\"스토리 설정과 사용자 입력에 반응하는 대사를 만드는 클래스\"\"\"\n",
    "    answer: str = Field(description=\"스토리 설정과 사용자와의 대화 기록에 따라 생성된 대사\")\n",
    "    main_emotion: Literal[\"기쁨\", \"분노\", \"슬픔\", \"공포\", \"냉소\", \"불쾌\", \"중립\"] = Field(description=\"대사의 주요 감정\")\n",
    "    #리터럴 타입으로 미리 지정한 7가지 감정 중 하나만 선택할 수 있음\n",
    "    main_emotion_intensity: float = Field(description=\"대사의 주요 감정의 강도 (0.0 ~ 1.0)\")\n",
    "    #감정의 강도(세기)를 나타내는 실수.\n",
    "\n",
    "structured_llm = model.with_structured_output(Adlib)\n",
    "#LLM출력 결과를 Adlib 데이터 구조에 맞게 변환\n",
    "adlib_chain = prompt_template | structured_llm\n",
    "\n",
    "adlib_chain.invoke({\n",
    "    \"story\": \"미녀와 야수\",\n",
    "    \"character_a\": \"벨\",\n",
    "    \"character_b\": \"개스톤\",\n",
    "    \"activity\": \"저녁\"\n",
    "})\n"
   ]
  },
  {
   "cell_type": "code",
   "execution_count": null,
   "metadata": {
    "pycharm": {
     "name": "#%%\n"
    }
   },
   "outputs": [],
   "source": []
  }
 ],
 "metadata": {
  "kernelspec": {
   "display_name": "venv",
   "language": "python",
   "name": "python3"
  },
  "language_info": {
   "codemirror_mode": {
    "name": "ipython",
    "version": 3
   },
   "file_extension": ".py",
   "mimetype": "text/x-python",
   "name": "python",
   "nbconvert_exporter": "python",
   "pygments_lexer": "ipython3",
   "version": "3.12.9"
  }
 },
 "nbformat": 4,
 "nbformat_minor": 2
}